{
  "cells": [
    {
      "cell_type": "markdown",
      "metadata": {
        "id": "Y2T9G0ka5iGW"
      },
      "source": [
        "# Converter CSV para SQL\n",
        "Esse notebook lê os arquivos CSV e escreve um arquivo SQL que insere os dados no banco"
      ]
    },
    {
      "cell_type": "code",
      "execution_count": 2,
      "metadata": {
        "id": "xz6BK4tx5iGc"
      },
      "outputs": [],
      "source": [
        "import pandas as pd\n",
        "import numpy as np"
      ]
    },
    {
      "cell_type": "code",
      "execution_count": 3,
      "metadata": {
        "id": "reVJhekD5iGe"
      },
      "outputs": [],
      "source": [
        "import pickle"
      ]
    },
    {
      "cell_type": "code",
      "execution_count": 4,
      "metadata": {
        "id": "LI96ZXQs5iGf"
      },
      "outputs": [],
      "source": [
        "from tqdm.auto import tqdm\n",
        "tqdm.pandas()"
      ]
    },
    {
      "cell_type": "code",
      "source": [
        "!pip install git+https://github.com/cinemagoer/cinemagoer\n",
        "import imdb\n",
        "ia = imdb.IMDb()"
      ],
      "metadata": {
        "colab": {
          "base_uri": "https://localhost:8080/"
        },
        "id": "KF4HA5-jW4g5",
        "outputId": "ae8b3c91-eb28-42d3-b92e-ead62d75e8ef"
      },
      "execution_count": 5,
      "outputs": [
        {
          "output_type": "stream",
          "name": "stdout",
          "text": [
            "Collecting git+https://github.com/cinemagoer/cinemagoer\n",
            "  Cloning https://github.com/cinemagoer/cinemagoer to /tmp/pip-req-build-v0elckuz\n",
            "  Running command git clone -q https://github.com/cinemagoer/cinemagoer /tmp/pip-req-build-v0elckuz\n",
            "Requirement already satisfied: SQLAlchemy in /usr/local/lib/python3.7/dist-packages (from cinemagoer==2022.2.11) (1.4.31)\n",
            "Requirement already satisfied: lxml in /usr/local/lib/python3.7/dist-packages (from cinemagoer==2022.2.11) (4.2.6)\n",
            "Requirement already satisfied: greenlet!=0.4.17 in /usr/local/lib/python3.7/dist-packages (from SQLAlchemy->cinemagoer==2022.2.11) (1.1.2)\n",
            "Requirement already satisfied: importlib-metadata in /usr/local/lib/python3.7/dist-packages (from SQLAlchemy->cinemagoer==2022.2.11) (4.11.2)\n",
            "Requirement already satisfied: zipp>=0.5 in /usr/local/lib/python3.7/dist-packages (from importlib-metadata->SQLAlchemy->cinemagoer==2022.2.11) (3.7.0)\n",
            "Requirement already satisfied: typing-extensions>=3.6.4 in /usr/local/lib/python3.7/dist-packages (from importlib-metadata->SQLAlchemy->cinemagoer==2022.2.11) (3.10.0.2)\n"
          ]
        }
      ]
    },
    {
      "cell_type": "markdown",
      "metadata": {
        "id": "o0jY9Ihi5iGf"
      },
      "source": [
        "## 2. Ler arquivos e juntar\n",
        "\n",
        "Vamos ler os 4 arquivos em CSV, juntar todos em um único dataframe e remover a coluna 'show_id', pois o id no nosso banco não será o mesmo id do arquivo original"
      ]
    },
    {
      "cell_type": "code",
      "execution_count": 6,
      "metadata": {
        "id": "aCSR3wDZ5iGg"
      },
      "outputs": [],
      "source": [
        "# Le os 4 arquivos\n",
        "amazon = pd.read_csv('amazon_prime_titles.csv')\n",
        "disney = pd.read_csv('disney_plus_titles.csv')\n",
        "hulu = pd.read_csv('hulu_titles.csv')\n",
        "netflix = pd.read_csv('netflix_titles.csv')\n",
        "\n",
        "# Adiciona one-hot de plataforma\n",
        "amazon['amazon'] = True\n",
        "disney['disney'] = True\n",
        "netflix['netflix'] = True\n",
        "hulu['hulu'] = True\n",
        "\n",
        "# Adiciona data de inclusao para cada plataforma\n",
        "amazon.rename(columns={'date_added': 'date_added_amazon'}, inplace=True)\n",
        "disney.rename(columns={'date_added': 'date_added_disney'}, inplace=True)\n",
        "hulu.rename(columns={'date_added': 'date_added_hulu'}, inplace=True)\n",
        "netflix.rename(columns={'date_added': 'date_added_netflix'}, inplace=True)\n",
        "\n",
        "# Junta em um dataframe so\n",
        "shows = amazon.append(disney.append(hulu.append(netflix, ignore_index=True), ignore_index=True), ignore_index=True)\n",
        "\n",
        "# Zera as outras plataformas\n",
        "shows[['amazon','disney','hulu','netflix']] = shows[['amazon','disney','hulu','netflix']].fillna(False)\n",
        "\n",
        "# Muda os vazios para NaN\n",
        "shows.replace('', np.NaN)\n",
        " \n",
        "# Remove a coluna 'show_id'\n",
        "shows.drop(columns=['show_id'], inplace=True)"
      ]
    },
    {
      "cell_type": "code",
      "execution_count": null,
      "metadata": {
        "colab": {
          "base_uri": "https://localhost:8080/"
        },
        "id": "989AIKlD5iGh",
        "outputId": "5f2c7a98-b14d-48df-dc17-448b01e22ed7"
      },
      "outputs": [
        {
          "data": {
            "text/plain": [
              "Index(['type', 'title', 'director', 'cast', 'country', 'date_added_amazon',\n",
              "       'release_year', 'rating', 'duration', 'listed_in', 'description',\n",
              "       'amazon', 'date_added_disney', 'disney', 'date_added_hulu', 'hulu',\n",
              "       'date_added_netflix', 'netflix'],\n",
              "      dtype='object')"
            ]
          },
          "execution_count": 65,
          "metadata": {},
          "output_type": "execute_result"
        }
      ],
      "source": [
        "shows.columns"
      ]
    },
    {
      "cell_type": "code",
      "execution_count": null,
      "metadata": {
        "colab": {
          "base_uri": "https://localhost:8080/"
        },
        "id": "xwUzVAXc5iGh",
        "outputId": "dc7c1b97-3343-4832-c7e0-9e395e52873a"
      },
      "outputs": [
        {
          "data": {
            "text/plain": [
              "type                  22998\n",
              "title                 22998\n",
              "director              14736\n",
              "cast                  17677\n",
              "country               11499\n",
              "date_added_amazon       155\n",
              "release_year          22998\n",
              "rating                22134\n",
              "duration              22516\n",
              "listed_in             22998\n",
              "description           22994\n",
              "amazon                22998\n",
              "date_added_disney      1447\n",
              "disney                22998\n",
              "date_added_hulu        3045\n",
              "hulu                  22998\n",
              "date_added_netflix     8797\n",
              "netflix               22998\n",
              "dtype: int64"
            ]
          },
          "execution_count": 66,
          "metadata": {},
          "output_type": "execute_result"
        }
      ],
      "source": [
        "shows.count()"
      ]
    },
    {
      "cell_type": "markdown",
      "metadata": {
        "id": "zQWjMui45iGi"
      },
      "source": [
        "## 3. Limpeza de dados "
      ]
    },
    {
      "cell_type": "code",
      "execution_count": 7,
      "metadata": {
        "id": "0Wzi5bbC5iGi"
      },
      "outputs": [],
      "source": [
        "def createSet(series):\n",
        "    seriesSet = set()\n",
        "    for seriesString in series.dropna().unique():\n",
        "        for element in seriesString.split(', '):\n",
        "            if(element != '' and element[-1] != ','): seriesSet.add(element)\n",
        "    return seriesSet"
      ]
    },
    {
      "cell_type": "markdown",
      "metadata": {
        "id": "h8_zsmKz5iGj"
      },
      "source": [
        "Conserta a duração de alguns shows que estão na coluna rating"
      ]
    },
    {
      "cell_type": "code",
      "execution_count": 8,
      "metadata": {
        "id": "KAtldcoL5iGk"
      },
      "outputs": [],
      "source": [
        "shows.loc[shows['rating'].str.contains(r\"min|Season\") == True,['duration']] = shows[shows['rating'].str.contains(r\"min|Season\") == True]['rating']\n",
        "shows.loc[shows['rating'].str.contains(r\"min|Season\") == True,['rating']] = np.NaN"
      ]
    },
    {
      "cell_type": "markdown",
      "metadata": {
        "id": "Jpfzbj8Z5iGk"
      },
      "source": [
        "Junta os shows duplicados"
      ]
    },
    {
      "cell_type": "code",
      "execution_count": 9,
      "metadata": {
        "id": "DhJUw-YS5iGk"
      },
      "outputs": [],
      "source": [
        "duplicatedShows = [v for v in shows.groupby(['title','type','release_year']).groups.values() if len(v)>1]"
      ]
    },
    {
      "cell_type": "code",
      "execution_count": 10,
      "metadata": {
        "colab": {
          "base_uri": "https://localhost:8080/"
        },
        "id": "XVfcrrZl5iGl",
        "outputId": "cab59d29-2607-44d3-b789-bbfd0d3d6b19"
      },
      "outputs": [
        {
          "output_type": "stream",
          "name": "stdout",
          "text": [
            ""
          ]
        }
      ],
      "source": [
        "def mergeRow(series):\n",
        "    return ', '.join(createSet(series))\n",
        "\n",
        "def dateAdded(dates):\n",
        "    return np.NaN if dates.isnull().all() else dates.dropna().iloc[0]\n",
        "\n",
        "mergedShows = {\n",
        "    'type': [],\n",
        "    'title': [],\n",
        "    'release_year': [],\n",
        "    'director': [],\n",
        "    'cast': [],\n",
        "    'country': [],\n",
        "    'listed_in': [],\n",
        "    'amazon': [],\n",
        "    'disney': [],\n",
        "    'hulu': [],\n",
        "    'netflix': [],\n",
        "    'date_added_amazon': [],\n",
        "    'date_added_disney': [],\n",
        "    'date_added_hulu': [],\n",
        "    'date_added_netflix': [],\n",
        "    'duration': [],\n",
        "    'rating': [],\n",
        "    'description': []\n",
        "}\n",
        "duplicatedIds = []\n",
        "\n",
        "i = 0\n",
        "n = len(duplicatedShows)\n",
        "\n",
        "for showsId in duplicatedShows:\n",
        "    duplicatedIds.extend(showsId)\n",
        "    duplicatedPair = shows.loc[showsId]\n",
        "    \n",
        "    mergedShows['type'].append(duplicatedPair['type'].iloc[0])\n",
        "    mergedShows['title'].append(duplicatedPair['title'].iloc[0])\n",
        "    mergedShows['release_year'].append(duplicatedPair['release_year'].iloc[0])\n",
        "\n",
        "    mergedShows['director'].append(mergeRow(duplicatedPair['director']))\n",
        "    mergedShows['cast'].append(mergeRow(duplicatedPair['cast']))\n",
        "    mergedShows['country'].append(mergeRow(duplicatedPair['country']))\n",
        "    mergedShows['listed_in'].append(mergeRow(duplicatedPair['listed_in']))\n",
        "\n",
        "    mergedShows['amazon'].append(duplicatedPair['amazon'].any())\n",
        "    mergedShows['disney'].append(duplicatedPair['disney'].any())\n",
        "    mergedShows['hulu'].append(duplicatedPair['hulu'].any())\n",
        "    mergedShows['netflix'].append(duplicatedPair['netflix'].any())\n",
        "\n",
        "    mergedShows['date_added_amazon'].append(dateAdded(duplicatedPair['date_added_amazon']))\n",
        "    mergedShows['date_added_disney'].append(dateAdded(duplicatedPair['date_added_disney']))\n",
        "    mergedShows['date_added_hulu'].append(dateAdded(duplicatedPair['date_added_hulu']))\n",
        "    mergedShows['date_added_netflix'].append(dateAdded(duplicatedPair['date_added_netflix']))\n",
        "\n",
        "    mergedShows['duration'].append(duplicatedPair.mode()['duration'].iloc[0])\n",
        "    mergedShows['rating'].append(duplicatedPair.mode()['rating'].iloc[0])\n",
        "    mergedShows['description'].append(duplicatedPair.mode()['description'].iloc[0])\n",
        "    \n",
        "    i += 1\n",
        "    print('{:03.2f}%\\r'.format(100*i/n),end='')\n",
        "    \n",
        "shows = shows.drop(duplicatedIds)\n",
        "shows = shows.append(pd.DataFrame.from_dict(mergedShows), ignore_index=True)"
      ]
    },
    {
      "cell_type": "code",
      "execution_count": 11,
      "metadata": {
        "id": "H1tBHkBg5iGo"
      },
      "outputs": [],
      "source": [
        "def replaceQuotes(setWithQuotes):\n",
        "    return [g.replace(\"'\",\"''\") for g in setWithQuotes]\n",
        "\n",
        "countries = pd.DataFrame(replaceQuotes(createSet(shows['country'])), columns=['Name'])\n",
        "genre = pd.DataFrame(replaceQuotes(createSet(shows['listed_in'])), columns=['Name'])\n",
        "actors = pd.DataFrame(replaceQuotes(createSet(shows['cast'])), columns=['Name'])\n",
        "directors = pd.DataFrame(replaceQuotes(createSet(shows['director'])), columns=['Name'])"
      ]
    },
    {
      "cell_type": "code",
      "execution_count": 27,
      "metadata": {
        "colab": {
          "base_uri": "https://localhost:8080/",
          "height": 81,
          "referenced_widgets": [
            "38aaaba4eab54e16b87a796290887b11",
            "016d57ee4a044e068641017642f7cfaa",
            "e125ec337e704b8786fc7cca313f900e",
            "3b6b22b9083e4904a24373d2f029aea9",
            "8b97706cec7a456ba1a6a2299e50d95e",
            "b10099c2077f47ac932ec369db0a0851",
            "da261d38886f41308b2fcc0e2b9f632c",
            "1f6f36b58afc41ce819ac6b64394acdc",
            "0232e8ddb38741a1b929f5dd73f89f04",
            "3a24a8899f0046429769faa052cf94ca",
            "839632c21cda4ae994822f721c52d338",
            "814eb9e6713b4a20a49bbc97ec87c605",
            "d47d1b7def874111a9bab3d3e32f3c49",
            "77ace5428125452a9e888fa8c4a3c098",
            "d0e23e025fef4f89b608b87e5cef8f0e",
            "6816e18a59c04e0799e9c55d84c3d0bb",
            "dbc1ce87687d45afba837a4d669bfaf0",
            "504e4c31b67d4bceae036ed42fbda90a",
            "891b72e5c9424a7390ecf63bbe0af941",
            "712d06450fd64b9e9b1271a4d899d453",
            "d128473744e943bdbaf887e1333ccb92",
            "64fc3a1ca6cf4d6a890549af046866d1"
          ]
        },
        "id": "4JF6Ko-U5iGo",
        "outputId": "2e604023-7ab8-4cc8-955e-6beb5f6f38a5"
      },
      "outputs": [
        {
          "output_type": "display_data",
          "data": {
            "application/vnd.jupyter.widget-view+json": {
              "model_id": "38aaaba4eab54e16b87a796290887b11",
              "version_minor": 0,
              "version_major": 2
            },
            "text/plain": [
              "  0%|          | 0/62534 [00:00<?, ?it/s]"
            ]
          },
          "metadata": {}
        },
        {
          "output_type": "display_data",
          "data": {
            "application/vnd.jupyter.widget-view+json": {
              "model_id": "814eb9e6713b4a20a49bbc97ec87c605",
              "version_minor": 0,
              "version_major": 2
            },
            "text/plain": [
              "  0%|          | 0/10897 [00:00<?, ?it/s]"
            ]
          },
          "metadata": {}
        }
      ],
      "source": [
        "count = 0\n",
        "total = len(actors) + len(directors)\n",
        "peoplePhoto = {}\n",
        "with open('peoplePhoto.pickle','rb') as f:\n",
        "    peoplePhoto = pickle.load(f)\n",
        "\n",
        "def getActorFileName(name):\n",
        "    #global count\n",
        "    #count += 1\n",
        "    #print('{:03.3f}%\\r'.format(100*count/total),end='')\n",
        "    \n",
        "    if(name in peoplePhoto): return peoplePhoto[name]\n",
        "\n",
        "    photoBlob = None\n",
        "    try:\n",
        "        person = ia.search_person(name)[0]\n",
        "        photoBlob = person['full-size headshot']\n",
        "    except KeyboardInterrupt:\n",
        "        raise\n",
        "    except:\n",
        "        photoBlob = np.NaN\n",
        "    \n",
        "    peoplePhoto[name] = photoBlob\n",
        "    with open('peoplePhoto.pickle','wb') as f:\n",
        "        pickle.dump(peoplePhoto, f)\n",
        "        \n",
        "    return photoBlob\n",
        "'''  '''\n",
        "    \n",
        "actors['photo'] = actors['Name'].progress_apply(getActorFileName)\n",
        "directors['photo'] = directors['Name'].progress_apply(getActorFileName)"
      ]
    },
    {
      "cell_type": "code",
      "source": [
        "actors = actors.replace('https://m.media-amazon.png', np.NaN)\n",
        "directors = directors.replace('https://m.media-amazon.png', np.NaN)"
      ],
      "metadata": {
        "id": "dSQfcSE7C7MA"
      },
      "execution_count": 41,
      "outputs": []
    },
    {
      "cell_type": "code",
      "execution_count": 42,
      "metadata": {
        "id": "o-YAHSLv5iGq"
      },
      "outputs": [],
      "source": [
        "countryCodeCSV = pd.read_csv('countries.csv')\n",
        "\n",
        "# Vatican City = Holy See (Vatican City State)\n",
        "countryCodeCSV.replace(['Holy See (Vatican City State)'],'Vatican City',inplace=True)\n",
        "\n",
        "# Iran = Iran, Islamic Republic of\n",
        "countryCodeCSV.replace(['Iran, Islamic Republic of'],'Iran',inplace=True)\n",
        "\n",
        "# Namibia = Namibia ?????????????????\n",
        "countryCodeCSV.replace(['Namibia'],'Namibia',inplace=True)\n",
        "\n",
        "# Tanzania = Tanzania, United Republic of\n",
        "countryCodeCSV.replace(['Tanzania, United Republic of'],'Tanzania',inplace=True)\n",
        "\n",
        "# Palestine = Palestine, State of\n",
        "countryCodeCSV.replace(['Palestine, State of'],'Palestine',inplace=True)\n",
        "\n",
        "# Venezuela = Venezuela, Bolivarian Republic of\n",
        "countryCodeCSV.replace(['Venezuela, Bolivarian Republic of'],'Venezuela',inplace=True)\n",
        "\n",
        "# Syria = Syrian Arab Republic\n",
        "countryCodeCSV.replace(['Syrian Arab Republic'],'Syria',inplace=True)\n",
        "\n",
        "# Taiwan = Taiwan, Province of China\n",
        "countryCodeCSV.replace(['Taiwan, Province of China'],'Taiwan',inplace=True)\n",
        "\n",
        "# Russia = Russian Federation\n",
        "countryCodeCSV.replace(['Russian Federation'],'Russia',inplace=True)\n",
        "\n",
        "# South Korea = Korea, Republic of\n",
        "countryCodeCSV.replace(['Korea, Republic of'],'South Korea',inplace=True)\n",
        "\n",
        "# Vietnam = Viet Nam\n",
        "countryCodeCSV.replace(['Viet Nam'],'Vietnam',inplace=True)\n",
        "\n",
        "countries = countries.join(countryCodeCSV.set_index('Name'), on='Name')"
      ]
    },
    {
      "cell_type": "markdown",
      "metadata": {
        "id": "Zg5Jtn1go1Nr"
      },
      "source": [
        "### Criação das tabelas"
      ]
    },
    {
      "cell_type": "code",
      "execution_count": 43,
      "metadata": {
        "id": "69_YJKXpo4t_"
      },
      "outputs": [],
      "source": [
        "Exhibit = {\n",
        "  'id':[],\n",
        "  'name':[],\n",
        "  'release_year':[],\n",
        "  'parental_rating':[],\n",
        "  'description':[]\n",
        "}\n",
        "\n",
        "Country = {\n",
        "  'country_code':[],\n",
        "  'country_name':[],\n",
        "  'id_exhibit':[]\n",
        "}\n",
        "\n",
        "Series = {\n",
        "  'num_seasons':[],\n",
        "  'id_exhibit':[]\n",
        "}\n",
        "\n",
        "Movie = {\n",
        "  'runtime':[],\n",
        "  'id_exhibit':[]\n",
        "}\n",
        "\n",
        "Actor = {\n",
        "  'id':[],\n",
        "  'name':[],\n",
        "  'profile_photo':[]\n",
        "}\n",
        "\n",
        "Genre = {\n",
        "  'id':[],\n",
        "  'name':[]\n",
        "}\n",
        "\n",
        "Director = {\n",
        "  'id':[],\n",
        "  'name':[],\n",
        "  'profile_photo':[]\n",
        "}\n",
        "\n",
        "Platform = {\n",
        "  'id':[1,2,3,4],\n",
        "  'name':['Amazon Prime', 'Netflix', 'Disney+', 'Hulu']\n",
        "}\n",
        "\n",
        "PlatformComposition = {\n",
        "  'id_platform':[],\n",
        "  'inclusion_date':[],\n",
        "  'id_exhibit':[]\n",
        "}\n",
        "\n",
        "Directing = {\n",
        "  'id_exhibit':[],\n",
        "  'id_director':[]\n",
        "}\n",
        "\n",
        "GenreCategorization = {\n",
        "  'id_exhibit':[],\n",
        "  'id_genre':[]\n",
        "}\n",
        "\n",
        "Acting = {\n",
        "  'id_exhibit':[],\n",
        "  'id_actor':[]\n",
        "}"
      ]
    },
    {
      "cell_type": "code",
      "execution_count": 44,
      "metadata": {
        "id": "r8XDE5xXqxql",
        "colab": {
          "base_uri": "https://localhost:8080/",
          "height": 257,
          "referenced_widgets": [
            "f4bfd80736ee408e942de62cd355e8c6",
            "751f27d088244fb380107a18247c9395",
            "1c6115f6812b4e9a9409e3c86291c11b",
            "2df1284710f3403b83bd1c3035b55a3f",
            "ef5fb73bc2294339a3a4b24f6c956c71",
            "dbf0ab10d63b453ea0211045649ec785",
            "17a7186718bf4a8e8b177438d7469563",
            "682471792ba8415185995eaa4d989c3d",
            "92ce5ad01f9743f8bb3bf72465429990",
            "8ab9f2a2500f462496c78dec4a92c88d",
            "91d7a5c3b8ed41c983a67b631327c618"
          ]
        },
        "outputId": "236b73e9-b821-46b2-fc5d-01846721c5df"
      },
      "outputs": [
        {
          "output_type": "display_data",
          "data": {
            "application/vnd.jupyter.widget-view+json": {
              "model_id": "f4bfd80736ee408e942de62cd355e8c6",
              "version_minor": 0,
              "version_major": 2
            },
            "text/plain": [
              "  0%|          | 0/22608 [00:00<?, ?it/s]"
            ]
          },
          "metadata": {}
        },
        {
          "output_type": "execute_result",
          "data": {
            "text/plain": [
              "0        None\n",
              "1        None\n",
              "2        None\n",
              "3        None\n",
              "4        None\n",
              "         ... \n",
              "22603    None\n",
              "22604    None\n",
              "22605    None\n",
              "22606    None\n",
              "22607    None\n",
              "Length: 22608, dtype: object"
            ]
          },
          "metadata": {},
          "execution_count": 44
        }
      ],
      "source": [
        "def populated_dict(show):\n",
        "  id = show.index\n",
        "  Exhibit['id'].append(id)\n",
        "  Exhibit['name'].append(show['title'] if type(show['title']) != float else None)\n",
        "  Exhibit['release_year'].append(show['release_year'] if type(show['release_year']) != float else None)\n",
        "  Exhibit['parental_rating'].append(show['rating'] if type(show['rating']) != float else None)\n",
        "  Exhibit['description'].append(show['description'] if type(show['description']) != float else None)\n",
        "\n",
        "  if(type(show['country']) != float):\n",
        "    for country in show['country'].split(', '):\n",
        "      if(country == '' or country[-1] == ','): continue\n",
        "      countryRow = countries[countries['Name'] == country]\n",
        "      Country['country_code'].append(countryRow['Code'] if type(countryRow['Code']) != float else None)\n",
        "      Country['country_name'].append(countryRow['Name'])\n",
        "      Country['id_exhibit'].append(id)\n",
        "\n",
        "  duration = show['duration']\n",
        "  if(duration and type(duration) != float):\n",
        "    durationValue = int(duration.split()[0])\n",
        "    if('Season' in duration):\n",
        "      Series['num_seasons'].append(durationValue)\n",
        "      Series['id_exhibit'].append(id)\n",
        "    else:\n",
        "      Movie['runtime'].append(durationValue)\n",
        "      Movie['id_exhibit'].append(id)\n",
        "\n",
        "  if(show['amazon'] == 1):\n",
        "    PlatformComposition['id_platform'].append(1)\n",
        "    PlatformComposition['inclusion_date'].append(show['date_added_amazon'])\n",
        "    PlatformComposition['id_exhibit'].append(id)\n",
        "\n",
        "  if(show['netflix'] == 1):\n",
        "    PlatformComposition['id_platform'].append(2)\n",
        "    PlatformComposition['inclusion_date'].append(show['date_added_netflix'])\n",
        "    PlatformComposition['id_exhibit'].append(id)\n",
        "\n",
        "  if(show['disney'] == 1):\n",
        "    PlatformComposition['id_platform'].append(3)\n",
        "    PlatformComposition['inclusion_date'].append(show['date_added_disney'])\n",
        "    PlatformComposition['id_exhibit'].append(id)\n",
        "\n",
        "  if(show['hulu'] == 1):\n",
        "    PlatformComposition['id_platform'].append(4)\n",
        "    PlatformComposition['inclusion_date'].append(show['date_added_hulu'])\n",
        "    PlatformComposition['id_exhibit'].append(id)\n",
        "  \n",
        "  if(type(show['director']) != float):\n",
        "    for director in show['director'].split(', '):\n",
        "      if(director == '' or director[-1] == ','): continue\n",
        "      Directing['id_director'].append(directors[directors['Name'] == director].index)\n",
        "      Directing['id_exhibit'].append(id)\n",
        "\n",
        "  if(type(show['listed_in']) != float):\n",
        "    for actual_genre in show['listed_in'].split(', '):\n",
        "      if(actual_genre == '' or actual_genre[-1] == ','): continue\n",
        "      GenreCategorization['id_genre'].append(genre[genre['Name'] == actual_genre].index)\n",
        "      GenreCategorization['id_exhibit'].append(id)\n",
        "\n",
        "  if(type(show['cast']) != float):\n",
        "    for actor in show['cast'].split(', '):\n",
        "      if(actor == '' or actor[-1] == ','): continue\n",
        "      Acting['id_actor'].append(actors[actors['Name'] == actor].index)\n",
        "      Acting['id_exhibit'].append(id)\n",
        "\n",
        "shows.progress_apply(populated_dict, axis=1)"
      ]
    },
    {
      "cell_type": "code",
      "source": [
        "def insert_dict(data):\n",
        "  insertString = \"\"\n",
        "  for i in range(len(data[list(data.keys())[0]])-1):\n",
        "    insertString += '('\n",
        "    first = True\n",
        "    for key in data.keys():\n",
        "      if(first):\n",
        "        first = False\n",
        "      else:\n",
        "        insertString += ','\n",
        "      value = data[key][i]\n",
        "      if(type(value) == str): insertString += \"'\"\n",
        "      insertString += f\"{value}\"\n",
        "      if(type(value) == str): insertString += \"'\"\n",
        "    insertString += ')'\n",
        "    if(i != len(data[list(data.keys())[0]]) - 2):\n",
        "      insertString += ','\n",
        "  return insertString"
      ],
      "metadata": {
        "id": "Cu4iAsSWQAIV"
      },
      "execution_count": 45,
      "outputs": []
    },
    {
      "cell_type": "code",
      "source": [
        "def insert_df(data):\n",
        "  insertString = \"\"\n",
        "  for key, row in data.iterrows():\n",
        "    insertString += '('\n",
        "    first = True\n",
        "    for key in data.keys():\n",
        "      if(first):\n",
        "        first = False\n",
        "      else:\n",
        "        insertString += ','\n",
        "      value = data[key][i]\n",
        "      if(type(value) == str): insertString += \"'\"\n",
        "      insertString += f\"{value}\"\n",
        "      if(type(value) == str): insertString += \"'\"\n",
        "    insertString += ')'\n",
        "    if(i != len(data[list(data.keys())[0]]) - 2):\n",
        "      insertString += ','\n",
        "  return insertString"
      ],
      "metadata": {
        "id": "_o-zRr3CHenw"
      },
      "execution_count": null,
      "outputs": []
    },
    {
      "cell_type": "code",
      "execution_count": 46,
      "metadata": {
        "id": "YtJLLeH55iGq"
      },
      "outputs": [],
      "source": [
        "with open('dump.sql','w') as f:\n",
        "    f.write(f\"insert into Plataform values {Platform}\\n\")\n",
        "    f.write(f\"insert into Exhibit values {Exhibit}\\n\")\n",
        "    f.write(f\"insert into Country values {Country}\\n\")\n",
        "    f.write(f\"insert into Series values {Series}\\n\")\n",
        "    f.write(f\"insert into Movie values {Movie}\\n\")\n",
        "    f.write(f\"insert into Actor values {Actor}\\n\")\n",
        "    f.write(f\"insert into Genre values {Genre}\\n\")\n",
        "    f.write(f\"insert into Director values {Director}\\n\")\n",
        "    f.write(f\"insert into PlatformComposition values {PlatformComposition}\\n\")\n",
        "    f.write(f\"insert into Directing values {Directing}\\n\")\n",
        "    f.write(f\"insert into GenreCategorization values {GenreCategorization}\\n\")\n",
        "    f.write(f\"insert into Acting values {Acting}\\n\")"
      ]
    }
  ],
  "metadata": {
    "colab": {
      "collapsed_sections": [],
      "name": "data_cleansing.ipynb",
      "provenance": []
    },
    "kernelspec": {
      "display_name": "Python 3",
      "language": "python",
      "name": "python3"
    },
    "language_info": {
      "codemirror_mode": {
        "name": "ipython",
        "version": 3
      },
      "file_extension": ".py",
      "mimetype": "text/x-python",
      "name": "python",
      "nbconvert_exporter": "python",
      "pygments_lexer": "ipython3",
      "version": "3.8.5"
    },
    "widgets": {
      "application/vnd.jupyter.widget-state+json": {
        "38aaaba4eab54e16b87a796290887b11": {
          "model_module": "@jupyter-widgets/controls",
          "model_name": "HBoxModel",
          "model_module_version": "1.5.0",
          "state": {
            "_view_name": "HBoxView",
            "_dom_classes": [],
            "_model_name": "HBoxModel",
            "_view_module": "@jupyter-widgets/controls",
            "_model_module_version": "1.5.0",
            "_view_count": null,
            "_view_module_version": "1.5.0",
            "box_style": "",
            "layout": "IPY_MODEL_016d57ee4a044e068641017642f7cfaa",
            "_model_module": "@jupyter-widgets/controls",
            "children": [
              "IPY_MODEL_e125ec337e704b8786fc7cca313f900e",
              "IPY_MODEL_3b6b22b9083e4904a24373d2f029aea9",
              "IPY_MODEL_8b97706cec7a456ba1a6a2299e50d95e"
            ]
          }
        },
        "016d57ee4a044e068641017642f7cfaa": {
          "model_module": "@jupyter-widgets/base",
          "model_name": "LayoutModel",
          "model_module_version": "1.2.0",
          "state": {
            "_view_name": "LayoutView",
            "grid_template_rows": null,
            "right": null,
            "justify_content": null,
            "_view_module": "@jupyter-widgets/base",
            "overflow": null,
            "_model_module_version": "1.2.0",
            "_view_count": null,
            "flex_flow": null,
            "width": null,
            "min_width": null,
            "border": null,
            "align_items": null,
            "bottom": null,
            "_model_module": "@jupyter-widgets/base",
            "top": null,
            "grid_column": null,
            "overflow_y": null,
            "overflow_x": null,
            "grid_auto_flow": null,
            "grid_area": null,
            "grid_template_columns": null,
            "flex": null,
            "_model_name": "LayoutModel",
            "justify_items": null,
            "grid_row": null,
            "max_height": null,
            "align_content": null,
            "visibility": null,
            "align_self": null,
            "height": null,
            "min_height": null,
            "padding": null,
            "grid_auto_rows": null,
            "grid_gap": null,
            "max_width": null,
            "order": null,
            "_view_module_version": "1.2.0",
            "grid_template_areas": null,
            "object_position": null,
            "object_fit": null,
            "grid_auto_columns": null,
            "margin": null,
            "display": null,
            "left": null
          }
        },
        "e125ec337e704b8786fc7cca313f900e": {
          "model_module": "@jupyter-widgets/controls",
          "model_name": "HTMLModel",
          "model_module_version": "1.5.0",
          "state": {
            "_view_name": "HTMLView",
            "style": "IPY_MODEL_b10099c2077f47ac932ec369db0a0851",
            "_dom_classes": [],
            "description": "",
            "_model_name": "HTMLModel",
            "placeholder": "​",
            "_view_module": "@jupyter-widgets/controls",
            "_model_module_version": "1.5.0",
            "value": "100%",
            "_view_count": null,
            "_view_module_version": "1.5.0",
            "description_tooltip": null,
            "_model_module": "@jupyter-widgets/controls",
            "layout": "IPY_MODEL_da261d38886f41308b2fcc0e2b9f632c"
          }
        },
        "3b6b22b9083e4904a24373d2f029aea9": {
          "model_module": "@jupyter-widgets/controls",
          "model_name": "FloatProgressModel",
          "model_module_version": "1.5.0",
          "state": {
            "_view_name": "ProgressView",
            "style": "IPY_MODEL_1f6f36b58afc41ce819ac6b64394acdc",
            "_dom_classes": [],
            "description": "",
            "_model_name": "FloatProgressModel",
            "bar_style": "success",
            "max": 62534,
            "_view_module": "@jupyter-widgets/controls",
            "_model_module_version": "1.5.0",
            "value": 62534,
            "_view_count": null,
            "_view_module_version": "1.5.0",
            "orientation": "horizontal",
            "min": 0,
            "description_tooltip": null,
            "_model_module": "@jupyter-widgets/controls",
            "layout": "IPY_MODEL_0232e8ddb38741a1b929f5dd73f89f04"
          }
        },
        "8b97706cec7a456ba1a6a2299e50d95e": {
          "model_module": "@jupyter-widgets/controls",
          "model_name": "HTMLModel",
          "model_module_version": "1.5.0",
          "state": {
            "_view_name": "HTMLView",
            "style": "IPY_MODEL_3a24a8899f0046429769faa052cf94ca",
            "_dom_classes": [],
            "description": "",
            "_model_name": "HTMLModel",
            "placeholder": "​",
            "_view_module": "@jupyter-widgets/controls",
            "_model_module_version": "1.5.0",
            "value": " 62534/62534 [03:47&lt;00:00, 143.81it/s]",
            "_view_count": null,
            "_view_module_version": "1.5.0",
            "description_tooltip": null,
            "_model_module": "@jupyter-widgets/controls",
            "layout": "IPY_MODEL_839632c21cda4ae994822f721c52d338"
          }
        },
        "b10099c2077f47ac932ec369db0a0851": {
          "model_module": "@jupyter-widgets/controls",
          "model_name": "DescriptionStyleModel",
          "model_module_version": "1.5.0",
          "state": {
            "_view_name": "StyleView",
            "_model_name": "DescriptionStyleModel",
            "description_width": "",
            "_view_module": "@jupyter-widgets/base",
            "_model_module_version": "1.5.0",
            "_view_count": null,
            "_view_module_version": "1.2.0",
            "_model_module": "@jupyter-widgets/controls"
          }
        },
        "da261d38886f41308b2fcc0e2b9f632c": {
          "model_module": "@jupyter-widgets/base",
          "model_name": "LayoutModel",
          "model_module_version": "1.2.0",
          "state": {
            "_view_name": "LayoutView",
            "grid_template_rows": null,
            "right": null,
            "justify_content": null,
            "_view_module": "@jupyter-widgets/base",
            "overflow": null,
            "_model_module_version": "1.2.0",
            "_view_count": null,
            "flex_flow": null,
            "width": null,
            "min_width": null,
            "border": null,
            "align_items": null,
            "bottom": null,
            "_model_module": "@jupyter-widgets/base",
            "top": null,
            "grid_column": null,
            "overflow_y": null,
            "overflow_x": null,
            "grid_auto_flow": null,
            "grid_area": null,
            "grid_template_columns": null,
            "flex": null,
            "_model_name": "LayoutModel",
            "justify_items": null,
            "grid_row": null,
            "max_height": null,
            "align_content": null,
            "visibility": null,
            "align_self": null,
            "height": null,
            "min_height": null,
            "padding": null,
            "grid_auto_rows": null,
            "grid_gap": null,
            "max_width": null,
            "order": null,
            "_view_module_version": "1.2.0",
            "grid_template_areas": null,
            "object_position": null,
            "object_fit": null,
            "grid_auto_columns": null,
            "margin": null,
            "display": null,
            "left": null
          }
        },
        "1f6f36b58afc41ce819ac6b64394acdc": {
          "model_module": "@jupyter-widgets/controls",
          "model_name": "ProgressStyleModel",
          "model_module_version": "1.5.0",
          "state": {
            "_view_name": "StyleView",
            "_model_name": "ProgressStyleModel",
            "description_width": "",
            "_view_module": "@jupyter-widgets/base",
            "_model_module_version": "1.5.0",
            "_view_count": null,
            "_view_module_version": "1.2.0",
            "bar_color": null,
            "_model_module": "@jupyter-widgets/controls"
          }
        },
        "0232e8ddb38741a1b929f5dd73f89f04": {
          "model_module": "@jupyter-widgets/base",
          "model_name": "LayoutModel",
          "model_module_version": "1.2.0",
          "state": {
            "_view_name": "LayoutView",
            "grid_template_rows": null,
            "right": null,
            "justify_content": null,
            "_view_module": "@jupyter-widgets/base",
            "overflow": null,
            "_model_module_version": "1.2.0",
            "_view_count": null,
            "flex_flow": null,
            "width": null,
            "min_width": null,
            "border": null,
            "align_items": null,
            "bottom": null,
            "_model_module": "@jupyter-widgets/base",
            "top": null,
            "grid_column": null,
            "overflow_y": null,
            "overflow_x": null,
            "grid_auto_flow": null,
            "grid_area": null,
            "grid_template_columns": null,
            "flex": null,
            "_model_name": "LayoutModel",
            "justify_items": null,
            "grid_row": null,
            "max_height": null,
            "align_content": null,
            "visibility": null,
            "align_self": null,
            "height": null,
            "min_height": null,
            "padding": null,
            "grid_auto_rows": null,
            "grid_gap": null,
            "max_width": null,
            "order": null,
            "_view_module_version": "1.2.0",
            "grid_template_areas": null,
            "object_position": null,
            "object_fit": null,
            "grid_auto_columns": null,
            "margin": null,
            "display": null,
            "left": null
          }
        },
        "3a24a8899f0046429769faa052cf94ca": {
          "model_module": "@jupyter-widgets/controls",
          "model_name": "DescriptionStyleModel",
          "model_module_version": "1.5.0",
          "state": {
            "_view_name": "StyleView",
            "_model_name": "DescriptionStyleModel",
            "description_width": "",
            "_view_module": "@jupyter-widgets/base",
            "_model_module_version": "1.5.0",
            "_view_count": null,
            "_view_module_version": "1.2.0",
            "_model_module": "@jupyter-widgets/controls"
          }
        },
        "839632c21cda4ae994822f721c52d338": {
          "model_module": "@jupyter-widgets/base",
          "model_name": "LayoutModel",
          "model_module_version": "1.2.0",
          "state": {
            "_view_name": "LayoutView",
            "grid_template_rows": null,
            "right": null,
            "justify_content": null,
            "_view_module": "@jupyter-widgets/base",
            "overflow": null,
            "_model_module_version": "1.2.0",
            "_view_count": null,
            "flex_flow": null,
            "width": null,
            "min_width": null,
            "border": null,
            "align_items": null,
            "bottom": null,
            "_model_module": "@jupyter-widgets/base",
            "top": null,
            "grid_column": null,
            "overflow_y": null,
            "overflow_x": null,
            "grid_auto_flow": null,
            "grid_area": null,
            "grid_template_columns": null,
            "flex": null,
            "_model_name": "LayoutModel",
            "justify_items": null,
            "grid_row": null,
            "max_height": null,
            "align_content": null,
            "visibility": null,
            "align_self": null,
            "height": null,
            "min_height": null,
            "padding": null,
            "grid_auto_rows": null,
            "grid_gap": null,
            "max_width": null,
            "order": null,
            "_view_module_version": "1.2.0",
            "grid_template_areas": null,
            "object_position": null,
            "object_fit": null,
            "grid_auto_columns": null,
            "margin": null,
            "display": null,
            "left": null
          }
        },
        "814eb9e6713b4a20a49bbc97ec87c605": {
          "model_module": "@jupyter-widgets/controls",
          "model_name": "HBoxModel",
          "model_module_version": "1.5.0",
          "state": {
            "_view_name": "HBoxView",
            "_dom_classes": [],
            "_model_name": "HBoxModel",
            "_view_module": "@jupyter-widgets/controls",
            "_model_module_version": "1.5.0",
            "_view_count": null,
            "_view_module_version": "1.5.0",
            "box_style": "",
            "layout": "IPY_MODEL_d47d1b7def874111a9bab3d3e32f3c49",
            "_model_module": "@jupyter-widgets/controls",
            "children": [
              "IPY_MODEL_77ace5428125452a9e888fa8c4a3c098",
              "IPY_MODEL_d0e23e025fef4f89b608b87e5cef8f0e",
              "IPY_MODEL_6816e18a59c04e0799e9c55d84c3d0bb"
            ]
          }
        },
        "d47d1b7def874111a9bab3d3e32f3c49": {
          "model_module": "@jupyter-widgets/base",
          "model_name": "LayoutModel",
          "model_module_version": "1.2.0",
          "state": {
            "_view_name": "LayoutView",
            "grid_template_rows": null,
            "right": null,
            "justify_content": null,
            "_view_module": "@jupyter-widgets/base",
            "overflow": null,
            "_model_module_version": "1.2.0",
            "_view_count": null,
            "flex_flow": null,
            "width": null,
            "min_width": null,
            "border": null,
            "align_items": null,
            "bottom": null,
            "_model_module": "@jupyter-widgets/base",
            "top": null,
            "grid_column": null,
            "overflow_y": null,
            "overflow_x": null,
            "grid_auto_flow": null,
            "grid_area": null,
            "grid_template_columns": null,
            "flex": null,
            "_model_name": "LayoutModel",
            "justify_items": null,
            "grid_row": null,
            "max_height": null,
            "align_content": null,
            "visibility": null,
            "align_self": null,
            "height": null,
            "min_height": null,
            "padding": null,
            "grid_auto_rows": null,
            "grid_gap": null,
            "max_width": null,
            "order": null,
            "_view_module_version": "1.2.0",
            "grid_template_areas": null,
            "object_position": null,
            "object_fit": null,
            "grid_auto_columns": null,
            "margin": null,
            "display": null,
            "left": null
          }
        },
        "77ace5428125452a9e888fa8c4a3c098": {
          "model_module": "@jupyter-widgets/controls",
          "model_name": "HTMLModel",
          "model_module_version": "1.5.0",
          "state": {
            "_view_name": "HTMLView",
            "style": "IPY_MODEL_dbc1ce87687d45afba837a4d669bfaf0",
            "_dom_classes": [],
            "description": "",
            "_model_name": "HTMLModel",
            "placeholder": "​",
            "_view_module": "@jupyter-widgets/controls",
            "_model_module_version": "1.5.0",
            "value": "100%",
            "_view_count": null,
            "_view_module_version": "1.5.0",
            "description_tooltip": null,
            "_model_module": "@jupyter-widgets/controls",
            "layout": "IPY_MODEL_504e4c31b67d4bceae036ed42fbda90a"
          }
        },
        "d0e23e025fef4f89b608b87e5cef8f0e": {
          "model_module": "@jupyter-widgets/controls",
          "model_name": "FloatProgressModel",
          "model_module_version": "1.5.0",
          "state": {
            "_view_name": "ProgressView",
            "style": "IPY_MODEL_891b72e5c9424a7390ecf63bbe0af941",
            "_dom_classes": [],
            "description": "",
            "_model_name": "FloatProgressModel",
            "bar_style": "success",
            "max": 10897,
            "_view_module": "@jupyter-widgets/controls",
            "_model_module_version": "1.5.0",
            "value": 10897,
            "_view_count": null,
            "_view_module_version": "1.5.0",
            "orientation": "horizontal",
            "min": 0,
            "description_tooltip": null,
            "_model_module": "@jupyter-widgets/controls",
            "layout": "IPY_MODEL_712d06450fd64b9e9b1271a4d899d453"
          }
        },
        "6816e18a59c04e0799e9c55d84c3d0bb": {
          "model_module": "@jupyter-widgets/controls",
          "model_name": "HTMLModel",
          "model_module_version": "1.5.0",
          "state": {
            "_view_name": "HTMLView",
            "style": "IPY_MODEL_d128473744e943bdbaf887e1333ccb92",
            "_dom_classes": [],
            "description": "",
            "_model_name": "HTMLModel",
            "placeholder": "​",
            "_view_module": "@jupyter-widgets/controls",
            "_model_module_version": "1.5.0",
            "value": " 10897/10897 [07:25&lt;00:00, 29.96it/s]",
            "_view_count": null,
            "_view_module_version": "1.5.0",
            "description_tooltip": null,
            "_model_module": "@jupyter-widgets/controls",
            "layout": "IPY_MODEL_64fc3a1ca6cf4d6a890549af046866d1"
          }
        },
        "dbc1ce87687d45afba837a4d669bfaf0": {
          "model_module": "@jupyter-widgets/controls",
          "model_name": "DescriptionStyleModel",
          "model_module_version": "1.5.0",
          "state": {
            "_view_name": "StyleView",
            "_model_name": "DescriptionStyleModel",
            "description_width": "",
            "_view_module": "@jupyter-widgets/base",
            "_model_module_version": "1.5.0",
            "_view_count": null,
            "_view_module_version": "1.2.0",
            "_model_module": "@jupyter-widgets/controls"
          }
        },
        "504e4c31b67d4bceae036ed42fbda90a": {
          "model_module": "@jupyter-widgets/base",
          "model_name": "LayoutModel",
          "model_module_version": "1.2.0",
          "state": {
            "_view_name": "LayoutView",
            "grid_template_rows": null,
            "right": null,
            "justify_content": null,
            "_view_module": "@jupyter-widgets/base",
            "overflow": null,
            "_model_module_version": "1.2.0",
            "_view_count": null,
            "flex_flow": null,
            "width": null,
            "min_width": null,
            "border": null,
            "align_items": null,
            "bottom": null,
            "_model_module": "@jupyter-widgets/base",
            "top": null,
            "grid_column": null,
            "overflow_y": null,
            "overflow_x": null,
            "grid_auto_flow": null,
            "grid_area": null,
            "grid_template_columns": null,
            "flex": null,
            "_model_name": "LayoutModel",
            "justify_items": null,
            "grid_row": null,
            "max_height": null,
            "align_content": null,
            "visibility": null,
            "align_self": null,
            "height": null,
            "min_height": null,
            "padding": null,
            "grid_auto_rows": null,
            "grid_gap": null,
            "max_width": null,
            "order": null,
            "_view_module_version": "1.2.0",
            "grid_template_areas": null,
            "object_position": null,
            "object_fit": null,
            "grid_auto_columns": null,
            "margin": null,
            "display": null,
            "left": null
          }
        },
        "891b72e5c9424a7390ecf63bbe0af941": {
          "model_module": "@jupyter-widgets/controls",
          "model_name": "ProgressStyleModel",
          "model_module_version": "1.5.0",
          "state": {
            "_view_name": "StyleView",
            "_model_name": "ProgressStyleModel",
            "description_width": "",
            "_view_module": "@jupyter-widgets/base",
            "_model_module_version": "1.5.0",
            "_view_count": null,
            "_view_module_version": "1.2.0",
            "bar_color": null,
            "_model_module": "@jupyter-widgets/controls"
          }
        },
        "712d06450fd64b9e9b1271a4d899d453": {
          "model_module": "@jupyter-widgets/base",
          "model_name": "LayoutModel",
          "model_module_version": "1.2.0",
          "state": {
            "_view_name": "LayoutView",
            "grid_template_rows": null,
            "right": null,
            "justify_content": null,
            "_view_module": "@jupyter-widgets/base",
            "overflow": null,
            "_model_module_version": "1.2.0",
            "_view_count": null,
            "flex_flow": null,
            "width": null,
            "min_width": null,
            "border": null,
            "align_items": null,
            "bottom": null,
            "_model_module": "@jupyter-widgets/base",
            "top": null,
            "grid_column": null,
            "overflow_y": null,
            "overflow_x": null,
            "grid_auto_flow": null,
            "grid_area": null,
            "grid_template_columns": null,
            "flex": null,
            "_model_name": "LayoutModel",
            "justify_items": null,
            "grid_row": null,
            "max_height": null,
            "align_content": null,
            "visibility": null,
            "align_self": null,
            "height": null,
            "min_height": null,
            "padding": null,
            "grid_auto_rows": null,
            "grid_gap": null,
            "max_width": null,
            "order": null,
            "_view_module_version": "1.2.0",
            "grid_template_areas": null,
            "object_position": null,
            "object_fit": null,
            "grid_auto_columns": null,
            "margin": null,
            "display": null,
            "left": null
          }
        },
        "d128473744e943bdbaf887e1333ccb92": {
          "model_module": "@jupyter-widgets/controls",
          "model_name": "DescriptionStyleModel",
          "model_module_version": "1.5.0",
          "state": {
            "_view_name": "StyleView",
            "_model_name": "DescriptionStyleModel",
            "description_width": "",
            "_view_module": "@jupyter-widgets/base",
            "_model_module_version": "1.5.0",
            "_view_count": null,
            "_view_module_version": "1.2.0",
            "_model_module": "@jupyter-widgets/controls"
          }
        },
        "64fc3a1ca6cf4d6a890549af046866d1": {
          "model_module": "@jupyter-widgets/base",
          "model_name": "LayoutModel",
          "model_module_version": "1.2.0",
          "state": {
            "_view_name": "LayoutView",
            "grid_template_rows": null,
            "right": null,
            "justify_content": null,
            "_view_module": "@jupyter-widgets/base",
            "overflow": null,
            "_model_module_version": "1.2.0",
            "_view_count": null,
            "flex_flow": null,
            "width": null,
            "min_width": null,
            "border": null,
            "align_items": null,
            "bottom": null,
            "_model_module": "@jupyter-widgets/base",
            "top": null,
            "grid_column": null,
            "overflow_y": null,
            "overflow_x": null,
            "grid_auto_flow": null,
            "grid_area": null,
            "grid_template_columns": null,
            "flex": null,
            "_model_name": "LayoutModel",
            "justify_items": null,
            "grid_row": null,
            "max_height": null,
            "align_content": null,
            "visibility": null,
            "align_self": null,
            "height": null,
            "min_height": null,
            "padding": null,
            "grid_auto_rows": null,
            "grid_gap": null,
            "max_width": null,
            "order": null,
            "_view_module_version": "1.2.0",
            "grid_template_areas": null,
            "object_position": null,
            "object_fit": null,
            "grid_auto_columns": null,
            "margin": null,
            "display": null,
            "left": null
          }
        },
        "f4bfd80736ee408e942de62cd355e8c6": {
          "model_module": "@jupyter-widgets/controls",
          "model_name": "HBoxModel",
          "model_module_version": "1.5.0",
          "state": {
            "_view_name": "HBoxView",
            "_dom_classes": [],
            "_model_name": "HBoxModel",
            "_view_module": "@jupyter-widgets/controls",
            "_model_module_version": "1.5.0",
            "_view_count": null,
            "_view_module_version": "1.5.0",
            "box_style": "",
            "layout": "IPY_MODEL_751f27d088244fb380107a18247c9395",
            "_model_module": "@jupyter-widgets/controls",
            "children": [
              "IPY_MODEL_1c6115f6812b4e9a9409e3c86291c11b",
              "IPY_MODEL_2df1284710f3403b83bd1c3035b55a3f",
              "IPY_MODEL_ef5fb73bc2294339a3a4b24f6c956c71"
            ]
          }
        },
        "751f27d088244fb380107a18247c9395": {
          "model_module": "@jupyter-widgets/base",
          "model_name": "LayoutModel",
          "model_module_version": "1.2.0",
          "state": {
            "_view_name": "LayoutView",
            "grid_template_rows": null,
            "right": null,
            "justify_content": null,
            "_view_module": "@jupyter-widgets/base",
            "overflow": null,
            "_model_module_version": "1.2.0",
            "_view_count": null,
            "flex_flow": null,
            "width": null,
            "min_width": null,
            "border": null,
            "align_items": null,
            "bottom": null,
            "_model_module": "@jupyter-widgets/base",
            "top": null,
            "grid_column": null,
            "overflow_y": null,
            "overflow_x": null,
            "grid_auto_flow": null,
            "grid_area": null,
            "grid_template_columns": null,
            "flex": null,
            "_model_name": "LayoutModel",
            "justify_items": null,
            "grid_row": null,
            "max_height": null,
            "align_content": null,
            "visibility": null,
            "align_self": null,
            "height": null,
            "min_height": null,
            "padding": null,
            "grid_auto_rows": null,
            "grid_gap": null,
            "max_width": null,
            "order": null,
            "_view_module_version": "1.2.0",
            "grid_template_areas": null,
            "object_position": null,
            "object_fit": null,
            "grid_auto_columns": null,
            "margin": null,
            "display": null,
            "left": null
          }
        },
        "1c6115f6812b4e9a9409e3c86291c11b": {
          "model_module": "@jupyter-widgets/controls",
          "model_name": "HTMLModel",
          "model_module_version": "1.5.0",
          "state": {
            "_view_name": "HTMLView",
            "style": "IPY_MODEL_dbf0ab10d63b453ea0211045649ec785",
            "_dom_classes": [],
            "description": "",
            "_model_name": "HTMLModel",
            "placeholder": "​",
            "_view_module": "@jupyter-widgets/controls",
            "_model_module_version": "1.5.0",
            "value": "100%",
            "_view_count": null,
            "_view_module_version": "1.5.0",
            "description_tooltip": null,
            "_model_module": "@jupyter-widgets/controls",
            "layout": "IPY_MODEL_17a7186718bf4a8e8b177438d7469563"
          }
        },
        "2df1284710f3403b83bd1c3035b55a3f": {
          "model_module": "@jupyter-widgets/controls",
          "model_name": "FloatProgressModel",
          "model_module_version": "1.5.0",
          "state": {
            "_view_name": "ProgressView",
            "style": "IPY_MODEL_682471792ba8415185995eaa4d989c3d",
            "_dom_classes": [],
            "description": "",
            "_model_name": "FloatProgressModel",
            "bar_style": "success",
            "max": 22608,
            "_view_module": "@jupyter-widgets/controls",
            "_model_module_version": "1.5.0",
            "value": 22608,
            "_view_count": null,
            "_view_module_version": "1.5.0",
            "orientation": "horizontal",
            "min": 0,
            "description_tooltip": null,
            "_model_module": "@jupyter-widgets/controls",
            "layout": "IPY_MODEL_92ce5ad01f9743f8bb3bf72465429990"
          }
        },
        "ef5fb73bc2294339a3a4b24f6c956c71": {
          "model_module": "@jupyter-widgets/controls",
          "model_name": "HTMLModel",
          "model_module_version": "1.5.0",
          "state": {
            "_view_name": "HTMLView",
            "style": "IPY_MODEL_8ab9f2a2500f462496c78dec4a92c88d",
            "_dom_classes": [],
            "description": "",
            "_model_name": "HTMLModel",
            "placeholder": "​",
            "_view_module": "@jupyter-widgets/controls",
            "_model_module_version": "1.5.0",
            "value": " 22608/22608 [15:58&lt;00:00, 11.89it/s]",
            "_view_count": null,
            "_view_module_version": "1.5.0",
            "description_tooltip": null,
            "_model_module": "@jupyter-widgets/controls",
            "layout": "IPY_MODEL_91d7a5c3b8ed41c983a67b631327c618"
          }
        },
        "dbf0ab10d63b453ea0211045649ec785": {
          "model_module": "@jupyter-widgets/controls",
          "model_name": "DescriptionStyleModel",
          "model_module_version": "1.5.0",
          "state": {
            "_view_name": "StyleView",
            "_model_name": "DescriptionStyleModel",
            "description_width": "",
            "_view_module": "@jupyter-widgets/base",
            "_model_module_version": "1.5.0",
            "_view_count": null,
            "_view_module_version": "1.2.0",
            "_model_module": "@jupyter-widgets/controls"
          }
        },
        "17a7186718bf4a8e8b177438d7469563": {
          "model_module": "@jupyter-widgets/base",
          "model_name": "LayoutModel",
          "model_module_version": "1.2.0",
          "state": {
            "_view_name": "LayoutView",
            "grid_template_rows": null,
            "right": null,
            "justify_content": null,
            "_view_module": "@jupyter-widgets/base",
            "overflow": null,
            "_model_module_version": "1.2.0",
            "_view_count": null,
            "flex_flow": null,
            "width": null,
            "min_width": null,
            "border": null,
            "align_items": null,
            "bottom": null,
            "_model_module": "@jupyter-widgets/base",
            "top": null,
            "grid_column": null,
            "overflow_y": null,
            "overflow_x": null,
            "grid_auto_flow": null,
            "grid_area": null,
            "grid_template_columns": null,
            "flex": null,
            "_model_name": "LayoutModel",
            "justify_items": null,
            "grid_row": null,
            "max_height": null,
            "align_content": null,
            "visibility": null,
            "align_self": null,
            "height": null,
            "min_height": null,
            "padding": null,
            "grid_auto_rows": null,
            "grid_gap": null,
            "max_width": null,
            "order": null,
            "_view_module_version": "1.2.0",
            "grid_template_areas": null,
            "object_position": null,
            "object_fit": null,
            "grid_auto_columns": null,
            "margin": null,
            "display": null,
            "left": null
          }
        },
        "682471792ba8415185995eaa4d989c3d": {
          "model_module": "@jupyter-widgets/controls",
          "model_name": "ProgressStyleModel",
          "model_module_version": "1.5.0",
          "state": {
            "_view_name": "StyleView",
            "_model_name": "ProgressStyleModel",
            "description_width": "",
            "_view_module": "@jupyter-widgets/base",
            "_model_module_version": "1.5.0",
            "_view_count": null,
            "_view_module_version": "1.2.0",
            "bar_color": null,
            "_model_module": "@jupyter-widgets/controls"
          }
        },
        "92ce5ad01f9743f8bb3bf72465429990": {
          "model_module": "@jupyter-widgets/base",
          "model_name": "LayoutModel",
          "model_module_version": "1.2.0",
          "state": {
            "_view_name": "LayoutView",
            "grid_template_rows": null,
            "right": null,
            "justify_content": null,
            "_view_module": "@jupyter-widgets/base",
            "overflow": null,
            "_model_module_version": "1.2.0",
            "_view_count": null,
            "flex_flow": null,
            "width": null,
            "min_width": null,
            "border": null,
            "align_items": null,
            "bottom": null,
            "_model_module": "@jupyter-widgets/base",
            "top": null,
            "grid_column": null,
            "overflow_y": null,
            "overflow_x": null,
            "grid_auto_flow": null,
            "grid_area": null,
            "grid_template_columns": null,
            "flex": null,
            "_model_name": "LayoutModel",
            "justify_items": null,
            "grid_row": null,
            "max_height": null,
            "align_content": null,
            "visibility": null,
            "align_self": null,
            "height": null,
            "min_height": null,
            "padding": null,
            "grid_auto_rows": null,
            "grid_gap": null,
            "max_width": null,
            "order": null,
            "_view_module_version": "1.2.0",
            "grid_template_areas": null,
            "object_position": null,
            "object_fit": null,
            "grid_auto_columns": null,
            "margin": null,
            "display": null,
            "left": null
          }
        },
        "8ab9f2a2500f462496c78dec4a92c88d": {
          "model_module": "@jupyter-widgets/controls",
          "model_name": "DescriptionStyleModel",
          "model_module_version": "1.5.0",
          "state": {
            "_view_name": "StyleView",
            "_model_name": "DescriptionStyleModel",
            "description_width": "",
            "_view_module": "@jupyter-widgets/base",
            "_model_module_version": "1.5.0",
            "_view_count": null,
            "_view_module_version": "1.2.0",
            "_model_module": "@jupyter-widgets/controls"
          }
        },
        "91d7a5c3b8ed41c983a67b631327c618": {
          "model_module": "@jupyter-widgets/base",
          "model_name": "LayoutModel",
          "model_module_version": "1.2.0",
          "state": {
            "_view_name": "LayoutView",
            "grid_template_rows": null,
            "right": null,
            "justify_content": null,
            "_view_module": "@jupyter-widgets/base",
            "overflow": null,
            "_model_module_version": "1.2.0",
            "_view_count": null,
            "flex_flow": null,
            "width": null,
            "min_width": null,
            "border": null,
            "align_items": null,
            "bottom": null,
            "_model_module": "@jupyter-widgets/base",
            "top": null,
            "grid_column": null,
            "overflow_y": null,
            "overflow_x": null,
            "grid_auto_flow": null,
            "grid_area": null,
            "grid_template_columns": null,
            "flex": null,
            "_model_name": "LayoutModel",
            "justify_items": null,
            "grid_row": null,
            "max_height": null,
            "align_content": null,
            "visibility": null,
            "align_self": null,
            "height": null,
            "min_height": null,
            "padding": null,
            "grid_auto_rows": null,
            "grid_gap": null,
            "max_width": null,
            "order": null,
            "_view_module_version": "1.2.0",
            "grid_template_areas": null,
            "object_position": null,
            "object_fit": null,
            "grid_auto_columns": null,
            "margin": null,
            "display": null,
            "left": null
          }
        }
      }
    }
  },
  "nbformat": 4,
  "nbformat_minor": 0
}