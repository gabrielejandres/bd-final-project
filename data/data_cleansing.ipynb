{
  "cells": [
    {
      "cell_type": "markdown",
      "metadata": {
        "id": "Y2T9G0ka5iGW"
      },
      "source": [
        "# Converter CSV para SQL\n",
        "Esse notebook lê os arquivos CSV e escreve um arquivo SQL que insere os dados no banco"
      ]
    },
    {
      "cell_type": "code",
      "execution_count": null,
      "metadata": {
        "id": "xz6BK4tx5iGc"
      },
      "outputs": [],
      "source": [
        "import pandas as pd\n",
        "import numpy as np"
      ]
    },
    {
      "cell_type": "code",
      "execution_count": null,
      "metadata": {
        "id": "reVJhekD5iGe"
      },
      "outputs": [],
      "source": [
        "import pickle"
      ]
    },
    {
      "cell_type": "code",
      "execution_count": null,
      "metadata": {
        "id": "LI96ZXQs5iGf"
      },
      "outputs": [],
      "source": [
        "from tqdm.auto import tqdm\n",
        "tqdm.pandas()"
      ]
    },
    {
      "cell_type": "code",
      "execution_count": null,
      "metadata": {
        "colab": {
          "base_uri": "https://localhost:8080/"
        },
        "id": "KF4HA5-jW4g5",
        "outputId": "d0a7a2e9-404f-428b-d42a-87bf74ba79ed"
      },
      "outputs": [
        {
          "name": "stdout",
          "output_type": "stream",
          "text": [
            "Collecting git+https://github.com/cinemagoer/cinemagoer\n",
            "  Cloning https://github.com/cinemagoer/cinemagoer to /tmp/pip-req-build-80l5ognx\n",
            "  Running command git clone -q https://github.com/cinemagoer/cinemagoer /tmp/pip-req-build-80l5ognx\n",
            "Requirement already satisfied: SQLAlchemy in /usr/local/lib/python3.7/dist-packages (from cinemagoer==2022.2.11) (1.4.31)\n",
            "Requirement already satisfied: lxml in /usr/local/lib/python3.7/dist-packages (from cinemagoer==2022.2.11) (4.2.6)\n",
            "Requirement already satisfied: importlib-metadata in /usr/local/lib/python3.7/dist-packages (from SQLAlchemy->cinemagoer==2022.2.11) (4.11.2)\n",
            "Requirement already satisfied: greenlet!=0.4.17 in /usr/local/lib/python3.7/dist-packages (from SQLAlchemy->cinemagoer==2022.2.11) (1.1.2)\n",
            "Requirement already satisfied: zipp>=0.5 in /usr/local/lib/python3.7/dist-packages (from importlib-metadata->SQLAlchemy->cinemagoer==2022.2.11) (3.7.0)\n",
            "Requirement already satisfied: typing-extensions>=3.6.4 in /usr/local/lib/python3.7/dist-packages (from importlib-metadata->SQLAlchemy->cinemagoer==2022.2.11) (3.10.0.2)\n",
            "Building wheels for collected packages: cinemagoer\n",
            "  Building wheel for cinemagoer (setup.py) ... \u001b[?25l\u001b[?25hdone\n",
            "  Created wheel for cinemagoer: filename=cinemagoer-2022.2.11-py3-none-any.whl size=301450 sha256=35dc659a32441fcf74d54fa7c99715a6befd4e455d000eb73ad201bcfb042025\n",
            "  Stored in directory: /tmp/pip-ephem-wheel-cache-e11j303t/wheels/aa/25/77/eb71e4144eee1ee1883f440f5ec3898f09ab0291ed60193313\n",
            "Successfully built cinemagoer\n",
            "Installing collected packages: cinemagoer\n",
            "Successfully installed cinemagoer-2022.2.11\n"
          ]
        }
      ],
      "source": [
        "!pip install git+https://github.com/cinemagoer/cinemagoer\n",
        "import imdb\n",
        "ia = imdb.IMDb()"
      ]
    },
    {
      "cell_type": "markdown",
      "metadata": {
        "id": "o0jY9Ihi5iGf"
      },
      "source": [
        "## 1. Leitura dos arquivos\n",
        "\n",
        "Vamos ler os 4 arquivos em CSV, juntar todos em um único dataframe e remover a coluna 'show_id', pois o id no nosso banco não será o mesmo id do arquivo original"
      ]
    },
    {
      "cell_type": "code",
      "execution_count": null,
      "metadata": {
        "id": "aCSR3wDZ5iGg"
      },
      "outputs": [],
      "source": [
        "# Le os 4 arquivos\n",
        "amazon = pd.read_csv('amazon_prime_titles.csv')\n",
        "disney = pd.read_csv('disney_plus_titles.csv')\n",
        "hulu = pd.read_csv('hulu_titles.csv')\n",
        "netflix = pd.read_csv('netflix_titles.csv')\n",
        "\n",
        "# Adiciona one-hot de plataforma\n",
        "amazon['amazon'] = True\n",
        "disney['disney'] = True\n",
        "netflix['netflix'] = True\n",
        "hulu['hulu'] = True\n",
        "\n",
        "# Adiciona data de inclusao para cada plataforma\n",
        "amazon.rename(columns={'date_added': 'date_added_amazon'}, inplace=True)\n",
        "disney.rename(columns={'date_added': 'date_added_disney'}, inplace=True)\n",
        "hulu.rename(columns={'date_added': 'date_added_hulu'}, inplace=True)\n",
        "netflix.rename(columns={'date_added': 'date_added_netflix'}, inplace=True)\n",
        "\n",
        "# Junta em um dataframe so\n",
        "shows = amazon.append(disney.append(hulu.append(netflix, ignore_index=True), ignore_index=True), ignore_index=True)\n",
        "\n",
        "# Zera as outras plataformas\n",
        "shows[['amazon','disney','hulu','netflix']] = shows[['amazon','disney','hulu','netflix']].fillna(False)\n",
        "\n",
        "# Muda os vazios para NaN\n",
        "shows.replace('', np.NaN)\n",
        " \n",
        "# Remove a coluna 'show_id'\n",
        "shows.drop(columns=['show_id'], inplace=True)"
      ]
    },
    {
      "cell_type": "markdown",
      "metadata": {
        "id": "zQWjMui45iGi"
      },
      "source": [
        "## 2. Limpeza de dados "
      ]
    },
    {
      "cell_type": "markdown",
      "metadata": {
        "id": "h8_zsmKz5iGj"
      },
      "source": [
        "### 2.1: Conserta duração em lugar de classificação indicativa"
      ]
    },
    {
      "cell_type": "code",
      "execution_count": null,
      "metadata": {
        "id": "KAtldcoL5iGk"
      },
      "outputs": [],
      "source": [
        "shows.loc[shows['rating'].str.contains(r\"min|Season\") == True,['duration']] = shows[shows['rating'].str.contains(r\"min|Season\") == True]['rating']\n",
        "shows.loc[shows['rating'].str.contains(r\"min|Season\") == True,['rating']] = np.NaN"
      ]
    },
    {
      "cell_type": "markdown",
      "metadata": {
        "id": "Jpfzbj8Z5iGk"
      },
      "source": [
        "### 2.2: Junta os shows duplicados"
      ]
    },
    {
      "cell_type": "code",
      "execution_count": null,
      "metadata": {
        "id": "DhJUw-YS5iGk"
      },
      "outputs": [],
      "source": [
        "duplicatedShows = [v for v in shows.groupby(['title','type','release_year']).groups.values() if len(v)>1]"
      ]
    },
    {
      "cell_type": "code",
      "execution_count": null,
      "metadata": {
        "colab": {
          "base_uri": "https://localhost:8080/"
        },
        "id": "XVfcrrZl5iGl",
        "outputId": "73f136e6-9970-4cb8-c868-ea5d491d36c8"
      },
      "outputs": [
        {
          "name": "stdout",
          "output_type": "stream",
          "text": [
            ""
          ]
        }
      ],
      "source": [
        "def createSet(series):\n",
        "  seriesSet = set()\n",
        "  for seriesString in series.dropna().unique():\n",
        "    for element in seriesString.split(', '):\n",
        "      if(element != '' and element[-1] != ','): seriesSet.add(element)\n",
        "  return seriesSet\n",
        "    \n",
        "def mergeRow(series):\n",
        "  return ', '.join(createSet(series))\n",
        "\n",
        "def dateAdded(dates):\n",
        "  return np.NaN if dates.isnull().all() else dates.dropna().iloc[0]\n",
        "\n",
        "mergedShows = {\n",
        "  'type': [],\n",
        "  'title': [],\n",
        "  'release_year': [],\n",
        "  'director': [],\n",
        "  'cast': [],\n",
        "  'country': [],\n",
        "  'listed_in': [],\n",
        "  'amazon': [],\n",
        "  'disney': [],\n",
        "  'hulu': [],\n",
        "  'netflix': [],\n",
        "  'date_added_amazon': [],\n",
        "  'date_added_disney': [],\n",
        "  'date_added_hulu': [],\n",
        "  'date_added_netflix': [],\n",
        "  'duration': [],\n",
        "  'rating': [],\n",
        "  'description': []\n",
        "}\n",
        "duplicatedIds = []\n",
        "\n",
        "i = 0\n",
        "n = len(duplicatedShows)\n",
        "\n",
        "for showsId in duplicatedShows:\n",
        "  duplicatedIds.extend(showsId)\n",
        "  duplicatedPair = shows.loc[showsId]\n",
        "  \n",
        "  mergedShows['type'].append(duplicatedPair['type'].iloc[0])\n",
        "  mergedShows['title'].append(duplicatedPair['title'].iloc[0])\n",
        "  mergedShows['release_year'].append(duplicatedPair['release_year'].iloc[0])\n",
        "\n",
        "  mergedShows['director'].append(mergeRow(duplicatedPair['director']))\n",
        "  mergedShows['cast'].append(mergeRow(duplicatedPair['cast']))\n",
        "  mergedShows['country'].append(mergeRow(duplicatedPair['country']))\n",
        "  mergedShows['listed_in'].append(mergeRow(duplicatedPair['listed_in']))\n",
        "\n",
        "  mergedShows['amazon'].append(duplicatedPair['amazon'].any())\n",
        "  mergedShows['disney'].append(duplicatedPair['disney'].any())\n",
        "  mergedShows['hulu'].append(duplicatedPair['hulu'].any())\n",
        "  mergedShows['netflix'].append(duplicatedPair['netflix'].any())\n",
        "\n",
        "  mergedShows['date_added_amazon'].append(dateAdded(duplicatedPair['date_added_amazon']))\n",
        "  mergedShows['date_added_disney'].append(dateAdded(duplicatedPair['date_added_disney']))\n",
        "  mergedShows['date_added_hulu'].append(dateAdded(duplicatedPair['date_added_hulu']))\n",
        "  mergedShows['date_added_netflix'].append(dateAdded(duplicatedPair['date_added_netflix']))\n",
        "\n",
        "  mergedShows['duration'].append(duplicatedPair.mode()['duration'].iloc[0])\n",
        "  mergedShows['rating'].append(duplicatedPair.mode()['rating'].iloc[0])\n",
        "  mergedShows['description'].append(duplicatedPair.mode()['description'].iloc[0])\n",
        "  \n",
        "  i += 1\n",
        "  print('{:03.2f}%\\r'.format(100*i/n),end='')\n",
        "    \n",
        "shows = shows.drop(duplicatedIds)\n",
        "shows = shows.append(pd.DataFrame.from_dict(mergedShows), ignore_index=True)"
      ]
    },
    {
      "cell_type": "markdown",
      "source": [
        "### 2.3: Cria sets para países, gêneros, atores e diretores"
      ],
      "metadata": {
        "id": "oOPtqqsNRts3"
      }
    },
    {
      "cell_type": "code",
      "execution_count": null,
      "metadata": {
        "id": "H1tBHkBg5iGo"
      },
      "outputs": [],
      "source": [
        "countries = pd.DataFrame(createSet(shows['country']), columns=['Name'])\n",
        "genre = pd.DataFrame(createSet(shows['listed_in']), columns=['Name'])\n",
        "actors = pd.DataFrame(createSet(shows['cast']), columns=['Name'])\n",
        "directors = pd.DataFrame(createSet(shows['director']), columns=['Name'])"
      ]
    },
    {
      "cell_type": "markdown",
      "source": [
        "### 2.4: Obtenção de imagens"
      ],
      "metadata": {
        "id": "_g56mr52UUAl"
      }
    },
    {
      "cell_type": "code",
      "execution_count": null,
      "metadata": {
        "colab": {
          "base_uri": "https://localhost:8080/",
          "height": 81,
          "referenced_widgets": [
            "d22a3f7cafb647f2a5e8b55c69457bed",
            "44c71cc10daf40479a66736e4cdef9be",
            "ba4caf6e01984fd3b8f1c38f4ab304b3",
            "a98a44ecf71f4498a7f39c883eb244d5",
            "9abfe9090b7642e18cfa8bb848d68d43",
            "01b02763d39b416b88266d3bb1e74a02",
            "8b73cb8aaa614c25adeeef73f90f857c",
            "7ae0e9d231c74b49b30d7ab166e5c513",
            "479c657e34964b5dbe1cf9d04b41e9ee",
            "c8eecf5a16d44dde87e31f3b31d23a67",
            "11c8788a6c104f6bb1db8be7f2d5a116",
            "5f2050bb49b24d138212f1df6023f25e",
            "2c4722fcf094479998a3bc1aaacb8237",
            "c75c26ba2cc644d9b2e30b2346d3ce39",
            "206bb3710df948f3989eec87224f366d",
            "f769b345d05942909192c7c066c5dc4a",
            "501121cc4e6c47d3a6f4eec1650d050e",
            "756e31aa68b34e8b8b298834af89260d",
            "53b6552e601f4a38a52df817381728f6",
            "bf2144175a964769b842668548631b8d",
            "3e8c8f855b76489a8eeaa0017f5e143f",
            "4e196e121ef6407aa13787fd987f00b2"
          ]
        },
        "id": "4JF6Ko-U5iGo",
        "outputId": "3f7f8820-90d4-483a-aa1d-99a082740afd"
      },
      "outputs": [
        {
          "data": {
            "application/vnd.jupyter.widget-view+json": {
              "model_id": "d22a3f7cafb647f2a5e8b55c69457bed",
              "version_major": 2,
              "version_minor": 0
            },
            "text/plain": [
              "  0%|          | 0/62534 [00:00<?, ?it/s]"
            ]
          },
          "metadata": {},
          "output_type": "display_data"
        },
        {
          "data": {
            "application/vnd.jupyter.widget-view+json": {
              "model_id": "5f2050bb49b24d138212f1df6023f25e",
              "version_major": 2,
              "version_minor": 0
            },
            "text/plain": [
              "  0%|          | 0/10897 [00:00<?, ?it/s]"
            ]
          },
          "metadata": {},
          "output_type": "display_data"
        }
      ],
      "source": [
        "count = 0\n",
        "total = len(actors) + len(directors)\n",
        "peoplePhoto = {}\n",
        "with open('peoplePhoto.pickle','rb') as f:\n",
        "  peoplePhoto = pickle.load(f)\n",
        "\n",
        "def getActorFileName(name):\n",
        "  if(name in peoplePhoto): return peoplePhoto[name]\n",
        "\n",
        "  photoUrl = None\n",
        "  try:\n",
        "    person = ia.search_person(name)[0]\n",
        "    photoUrl = person['full-size headshot']\n",
        "  except KeyboardInterrupt:\n",
        "    raise\n",
        "  except:\n",
        "    photoUrl = np.NaN\n",
        "  \n",
        "  peoplePhoto[name] = photoUrl\n",
        "  with open('peoplePhoto.pickle','wb') as f:\n",
        "    pickle.dump(peoplePhoto, f)\n",
        "      \n",
        "  return photoUrl\n",
        "    \n",
        "actors['photo'] = actors['Name'].progress_apply(getActorFileName)\n",
        "directors['photo'] = directors['Name'].progress_apply(getActorFileName)"
      ]
    },
    {
      "cell_type": "code",
      "execution_count": null,
      "metadata": {
        "id": "dSQfcSE7C7MA"
      },
      "outputs": [],
      "source": [
        "actors = actors.replace('https://m.media-amazon.png', np.NaN)\n",
        "directors = directors.replace('https://m.media-amazon.png', np.NaN)"
      ]
    },
    {
      "cell_type": "markdown",
      "source": [
        "### 2.5: Adição do código dos países"
      ],
      "metadata": {
        "id": "lX_Y1xxQUlcz"
      }
    },
    {
      "cell_type": "code",
      "execution_count": null,
      "metadata": {
        "id": "o-YAHSLv5iGq"
      },
      "outputs": [],
      "source": [
        "countryCodeCSV = pd.read_csv('countries.csv')\n",
        "\n",
        "# Vatican City = Holy See (Vatican City State)\n",
        "countryCodeCSV.replace(['Holy See (Vatican City State)'],'Vatican City',inplace=True)\n",
        "\n",
        "# Iran = Iran, Islamic Republic of\n",
        "countryCodeCSV.replace(['Iran, Islamic Republic of'],'Iran',inplace=True)\n",
        "\n",
        "# Namibia = Namibia ?????????????????\n",
        "countryCodeCSV.replace(['Namibia'],'Namibia',inplace=True)\n",
        "\n",
        "# Tanzania = Tanzania, United Republic of\n",
        "countryCodeCSV.replace(['Tanzania, United Republic of'],'Tanzania',inplace=True)\n",
        "\n",
        "# Palestine = Palestine, State of\n",
        "countryCodeCSV.replace(['Palestine, State of'],'Palestine',inplace=True)\n",
        "\n",
        "# Venezuela = Venezuela, Bolivarian Republic of\n",
        "countryCodeCSV.replace(['Venezuela, Bolivarian Republic of'],'Venezuela',inplace=True)\n",
        "\n",
        "# Syria = Syrian Arab Republic\n",
        "countryCodeCSV.replace(['Syrian Arab Republic'],'Syria',inplace=True)\n",
        "\n",
        "# Taiwan = Taiwan, Province of China\n",
        "countryCodeCSV.replace(['Taiwan, Province of China'],'Taiwan',inplace=True)\n",
        "\n",
        "# Russia = Russian Federation\n",
        "countryCodeCSV.replace(['Russian Federation'],'Russia',inplace=True)\n",
        "\n",
        "# South Korea = Korea, Republic of\n",
        "countryCodeCSV.replace(['Korea, Republic of'],'South Korea',inplace=True)\n",
        "\n",
        "# Vietnam = Viet Nam\n",
        "countryCodeCSV.replace(['Viet Nam'],'Vietnam',inplace=True)\n",
        "\n",
        "countries = countries.join(countryCodeCSV.set_index('Name'), on='Name')"
      ]
    },
    {
      "cell_type": "markdown",
      "metadata": {
        "id": "Zg5Jtn1go1Nr"
      },
      "source": [
        "## 3. Criação das tabelas"
      ]
    },
    {
      "cell_type": "markdown",
      "source": [
        "### 3.1: Separação dos dados"
      ],
      "metadata": {
        "id": "PTGsjEe8VFbV"
      }
    },
    {
      "cell_type": "code",
      "execution_count": null,
      "metadata": {
        "id": "69_YJKXpo4t_"
      },
      "outputs": [],
      "source": [
        "Exhibit = {\n",
        "  'id':[],\n",
        "  'name':[],\n",
        "  'release_year':[],\n",
        "  'parental_rating':[],\n",
        "  'description':[]\n",
        "}\n",
        "\n",
        "Country = {\n",
        "  'country_code':[],\n",
        "  'country_name':[],\n",
        "  'id_exhibit':[]\n",
        "}\n",
        "\n",
        "Series = {\n",
        "  'num_seasons':[],\n",
        "  'id_exhibit':[]\n",
        "}\n",
        "\n",
        "Movie = {\n",
        "  'runtime':[],\n",
        "  'id_exhibit':[]\n",
        "}\n",
        "\n",
        "Actor = {\n",
        "  'id':[],\n",
        "  'name':[],\n",
        "  'profile_photo':[]\n",
        "}\n",
        "\n",
        "Genre = {\n",
        "  'id':[],\n",
        "  'name':[]\n",
        "}\n",
        "\n",
        "Director = {\n",
        "  'id':[],\n",
        "  'name':[],\n",
        "  'profile_photo':[]\n",
        "}\n",
        "\n",
        "Platform = {\n",
        "  'id':[0,1,2,3],\n",
        "  'name':['Amazon Prime', 'Netflix', 'Disney+', 'Hulu']\n",
        "}\n",
        "\n",
        "PlatformComposition = {\n",
        "  'id_platform':[],\n",
        "  'inclusion_date':[],\n",
        "  'id_exhibit':[]\n",
        "}\n",
        "\n",
        "Directing = {\n",
        "  'id_exhibit':[],\n",
        "  'id_director':[]\n",
        "}\n",
        "\n",
        "GenreCategorization = {\n",
        "  'id_exhibit':[],\n",
        "  'id_genre':[]\n",
        "}\n",
        "\n",
        "Acting = {\n",
        "  'id_exhibit':[],\n",
        "  'id_actor':[]\n",
        "}"
      ]
    },
    {
      "cell_type": "code",
      "execution_count": null,
      "metadata": {
        "colab": {
          "base_uri": "https://localhost:8080/",
          "height": 49,
          "referenced_widgets": [
            "5a5baf9e681e4683be61b75a5c192f38",
            "5869a47b190c495ea8f49038b343a208",
            "09a98afb477a4b7f8e1cafa091d9b2e7",
            "e51fde96e8874b1586926df675f4b066",
            "856ad89333f946d789b2c95b29a4c870",
            "69bb04d2777749f4849f234dbc2f7a24",
            "1976f140fb9342968d53cf27ec028b0b",
            "ebe9d158a0bb4f6dbfa4fc11176ca24b",
            "d650abc3347540e6be105c5f860902bb",
            "7d907c8e00c54e2392778e86c52de9ea",
            "7708ea33d67344df9b97b198008398a2"
          ]
        },
        "id": "r8XDE5xXqxql",
        "outputId": "46cf04ef-b722-4350-c2f6-6d4878275238"
      },
      "outputs": [
        {
          "data": {
            "application/vnd.jupyter.widget-view+json": {
              "model_id": "5a5baf9e681e4683be61b75a5c192f38",
              "version_major": 2,
              "version_minor": 0
            },
            "text/plain": [
              "  0%|          | 0/22608 [00:00<?, ?it/s]"
            ]
          },
          "metadata": {},
          "output_type": "display_data"
        }
      ],
      "source": [
        "def populated_dict(show):\n",
        "  id = show.name\n",
        "  Exhibit['id'].append(id)\n",
        "  Exhibit['name'].append(show['title'] if type(show['title']) != float else None)\n",
        "  Exhibit['release_year'].append(show['release_year'] if type(show['release_year']) != float else None)\n",
        "  Exhibit['parental_rating'].append(show['rating'] if type(show['rating']) != float else None)\n",
        "  Exhibit['description'].append(show['description'] if type(show['description']) != float else None)\n",
        "\n",
        "  if(type(show['country']) != float):\n",
        "    for country in show['country'].split(', '):\n",
        "      if(country == '' or country[-1] == ','): continue\n",
        "      countryRow = countries[countries['Name'] == country]\n",
        "      Country['country_code'].append(countryRow['Code'].iloc[0] if type(countryRow['Code']) != float else None)\n",
        "      Country['country_name'].append(countryRow['Name'].iloc[0])\n",
        "      Country['id_exhibit'].append(id)\n",
        "\n",
        "  duration = show['duration']\n",
        "  if(duration and type(duration) != float):\n",
        "    durationValue = int(duration.split()[0])\n",
        "    if('Season' in duration):\n",
        "      Series['num_seasons'].append(durationValue)\n",
        "      Series['id_exhibit'].append(id)\n",
        "    else:\n",
        "      Movie['runtime'].append(durationValue)\n",
        "      Movie['id_exhibit'].append(id)\n",
        "\n",
        "  if(show['amazon'] == 1):\n",
        "    PlatformComposition['id_platform'].append(0)\n",
        "    PlatformComposition['inclusion_date'].append(show['date_added_amazon'])\n",
        "    PlatformComposition['id_exhibit'].append(id)\n",
        "\n",
        "  if(show['netflix'] == 1):\n",
        "    PlatformComposition['id_platform'].append(1)\n",
        "    PlatformComposition['inclusion_date'].append(show['date_added_netflix'])\n",
        "    PlatformComposition['id_exhibit'].append(id)\n",
        "\n",
        "  if(show['disney'] == 1):\n",
        "    PlatformComposition['id_platform'].append(2)\n",
        "    PlatformComposition['inclusion_date'].append(show['date_added_disney'])\n",
        "    PlatformComposition['id_exhibit'].append(id)\n",
        "\n",
        "  if(show['hulu'] == 1):\n",
        "    PlatformComposition['id_platform'].append(3)\n",
        "    PlatformComposition['inclusion_date'].append(show['date_added_hulu'])\n",
        "    PlatformComposition['id_exhibit'].append(id)\n",
        "  \n",
        "  if(type(show['director']) != float):\n",
        "    for director in show['director'].split(', '):\n",
        "      if(director == '' or director[-1] == ','): continue\n",
        "      Directing['id_director'].append(directors[directors['Name'] == director].index[0])\n",
        "      Directing['id_exhibit'].append(id)\n",
        "\n",
        "  if(type(show['listed_in']) != float):\n",
        "    for actual_genre in show['listed_in'].split(', '):\n",
        "      if(actual_genre == '' or actual_genre[-1] == ','): continue\n",
        "      GenreCategorization['id_genre'].append(genre[genre['Name'] == actual_genre].index[0])\n",
        "      GenreCategorization['id_exhibit'].append(id)\n",
        "\n",
        "  if(type(show['cast']) != float):\n",
        "    for actor in show['cast'].split(', '):\n",
        "      if(actor == '' or actor[-1] == ','): continue\n",
        "      Acting['id_actor'].append(actors[actors['Name'] == actor].index[0])\n",
        "      Acting['id_exhibit'].append(id)\n",
        "\n",
        "shows.progress_apply(populated_dict, axis=1);"
      ]
    },
    {
      "cell_type": "code",
      "execution_count": null,
      "metadata": {
        "id": "ODbOEaPdeYoc"
      },
      "outputs": [],
      "source": [
        "Df_Exhibit = pd.DataFrame(Exhibit)\n",
        "Df_Country = pd.DataFrame(Country)\n",
        "Df_Series = pd.DataFrame(Series)\n",
        "Df_Movie = pd.DataFrame(Movie)\n",
        "Df_Actor = actors.reset_index()\n",
        "Df_Genre = genre.reset_index()\n",
        "Df_Director = directors.reset_index()\n",
        "Df_Platform = pd.DataFrame(Platform)\n",
        "Df_PlatformComposition = pd.DataFrame(PlatformComposition)\n",
        "Df_Directing = pd.DataFrame(Directing)\n",
        "Df_GenreCategorization = pd.DataFrame(GenreCategorization)\n",
        "Df_Acting = pd.DataFrame(Acting)"
      ]
    },
    {
      "cell_type": "markdown",
      "source": [
        "### 3.2: Mudança de dados para o formato do modelo"
      ],
      "metadata": {
        "id": "Bcoaro7uXlYF"
      }
    },
    {
      "cell_type": "code",
      "source": [
        "def format_date(date):\n",
        "  if pd.isna(date): return date\n",
        "  dateList = date.split()\n",
        "  dateString = dateList[2] + '-'\n",
        "  if(dateList[0] == 'January'): dateString += '01'\n",
        "  if(dateList[0] == 'February'): dateString += '02'\n",
        "  if(dateList[0] == 'March'): dateString += '03'\n",
        "  if(dateList[0] == 'April'): dateString += '04'\n",
        "  if(dateList[0] == 'May'): dateString += '05'\n",
        "  if(dateList[0] == 'June'): dateString += '06'\n",
        "  if(dateList[0] == 'July'): dateString += '07'\n",
        "  if(dateList[0] == 'August'): dateString += '08'\n",
        "  if(dateList[0] == 'September'): dateString += '09'\n",
        "  if(dateList[0] == 'October'): dateString += '10'\n",
        "  if(dateList[0] == 'November'): dateString += '11'\n",
        "  if(dateList[0] == 'December'): dateString += '12'\n",
        "  dateString += '-' + dateList[1][:-1]\n",
        "  return dateString\n",
        "\n",
        "Df_PlatformComposition['inclusion_date'] = Df_PlatformComposition['inclusion_date'].apply(format_date)"
      ],
      "metadata": {
        "id": "-SSLKHA4tMaA"
      },
      "execution_count": null,
      "outputs": []
    },
    {
      "cell_type": "code",
      "source": [
        "Df_Country.loc[Df_Country['country_name'] == 'Kosovo', ['country_code']] = 'KO'\n",
        "Df_Country.loc[Df_Country['country_name'] == 'Namibia', ['country_code']] = 'NA'\n",
        "Df_Country.loc[Df_Country['country_name'] == 'West Germany', ['country_code']] = 'DD'\n",
        "Df_Country.loc[Df_Country['country_name'] == 'Soviet Union', ['country_code']] = 'SU'\n",
        "Df_Country.loc[Df_Country['country_name'] == 'East Germany', ['country_code']] = 'DW'"
      ],
      "metadata": {
        "id": "tE-rGqOVuZkO"
      },
      "execution_count": null,
      "outputs": []
    },
    {
      "cell_type": "code",
      "source": [
        "Df_Acting.drop_duplicates(inplace = True)\n",
        "Df_Directing.drop_duplicates(inplace = True)"
      ],
      "metadata": {
        "id": "3FTAw8rNaIX3"
      },
      "execution_count": null,
      "outputs": []
    },
    {
      "cell_type": "markdown",
      "source": [
        "### 3.3: Inserção no SQL"
      ],
      "metadata": {
        "id": "iNdcYqL2aN6V"
      }
    },
    {
      "cell_type": "code",
      "execution_count": null,
      "metadata": {
        "id": "_o-zRr3CHenw"
      },
      "outputs": [],
      "source": [
        "def insert_df(data):\n",
        "  insertString = \"\"\n",
        "  for index, row in data.iterrows():\n",
        "    insertString += '('\n",
        "    for value in row.to_list():\n",
        "      if(type(value) == str): insertString += \"'\"\n",
        "      valueToAdd = value\n",
        "      if(pd.isna(value)): valueToAdd = 'NULL'\n",
        "      if(type(value) == str): valueToAdd = valueToAdd.replace(\"'\", \"''\")\n",
        "      if(type(value) == str): valueToAdd = valueToAdd.replace(\"\\n\", \"\")\n",
        "      insertString += f\"{valueToAdd}\"\n",
        "      if(type(value) == str): insertString += \"'\"\n",
        "      insertString += ','\n",
        "    insertString = insertString[:-1]\n",
        "    insertString += '),\\n'\n",
        "  return insertString[:-2]"
      ]
    },
    {
      "cell_type": "code",
      "execution_count": null,
      "metadata": {
        "id": "YtJLLeH55iGq"
      },
      "outputs": [],
      "source": [
        "with open('dump.sql','w') as f:\n",
        "  f.write(f\"insert into platforms values {insert_df(Df_Platform)};\\n\")\n",
        "  f.write(f\"insert into media values {insert_df(Df_Exhibit)};\\n\")\n",
        "  f.write(f\"insert into countries values {insert_df(Df_Country)};\\n\")\n",
        "  f.write(f\"insert into series values {insert_df(Df_Series)};\\n\")\n",
        "  f.write(f\"insert into movies values {insert_df(Df_Movie)};\\n\")\n",
        "  f.write(f\"insert into actors values {insert_df(Df_Actor)};\\n\")\n",
        "  f.write(f\"insert into genres values {insert_df(Df_Genre)};\\n\")\n",
        "  f.write(f\"insert into directors values {insert_df(Df_Director)};\\n\")\n",
        "  f.write(f\"insert into media_platform values {insert_df(Df_PlatformComposition)};\\n\")\n",
        "  f.write(f\"insert into director_media values {insert_df(Df_Directing)};\\n\")\n",
        "  f.write(f\"insert into genre_media values {insert_df(Df_GenreCategorization)};\\n\")\n",
        "  f.write(f\"insert into actor_media values {insert_df(Df_Acting)};\\n\")"
      ]
    },
    {
      "cell_type": "markdown",
      "source": [
        "## 4. Escrita e leitura dos dataframes\n",
        "Rodar separadamente!!!"
      ],
      "metadata": {
        "id": "UuMOWJQmaVUj"
      }
    },
    {
      "cell_type": "code",
      "execution_count": null,
      "metadata": {
        "id": "84FYdNEk2Sn0"
      },
      "outputs": [],
      "source": [
        "with open('dataframes.pickle','wb') as f:\n",
        "  pickle.dump([\n",
        "           Df_Exhibit,\n",
        "           Df_Country,\n",
        "           Df_Series,\n",
        "           Df_Movie,\n",
        "           Df_Actor,\n",
        "           Df_Genre,\n",
        "           Df_Director,\n",
        "           Df_Platform,\n",
        "           Df_PlatformComposition,\n",
        "           Df_Directing,\n",
        "           Df_GenreCategorization,\n",
        "           Df_Acting\n",
        "          ], f)"
      ]
    },
    {
      "cell_type": "code",
      "execution_count": null,
      "metadata": {
        "id": "myq9FhOP3DB6"
      },
      "outputs": [],
      "source": [
        "with open('dataframes.pickle','rb') as f:\n",
        "  Df_Exhibit, Df_Country, Df_Series, Df_Movie, Df_Actor, Df_Genre, Df_Director, Df_Platform, Df_PlatformComposition, Df_Directing, Df_GenreCategorization, Df_Acting = pickle.load(f)"
      ]
    }
  ],
  "metadata": {
    "colab": {
      "collapsed_sections": [],
      "name": "data_cleansing.ipynb",
      "provenance": []
    },
    "kernelspec": {
      "display_name": "Python 3",
      "language": "python",
      "name": "python3"
    },
    "language_info": {
      "codemirror_mode": {
        "name": "ipython",
        "version": 3
      },
      "file_extension": ".py",
      "mimetype": "text/x-python",
      "name": "python",
      "nbconvert_exporter": "python",
      "pygments_lexer": "ipython3",
      "version": "3.8.5"
    },
    "widgets": {
      "application/vnd.jupyter.widget-state+json": {
        "01b02763d39b416b88266d3bb1e74a02": {
          "model_module": "@jupyter-widgets/base",
          "model_module_version": "1.2.0",
          "model_name": "LayoutModel",
          "state": {
            "_model_module": "@jupyter-widgets/base",
            "_model_module_version": "1.2.0",
            "_model_name": "LayoutModel",
            "_view_count": null,
            "_view_module": "@jupyter-widgets/base",
            "_view_module_version": "1.2.0",
            "_view_name": "LayoutView",
            "align_content": null,
            "align_items": null,
            "align_self": null,
            "border": null,
            "bottom": null,
            "display": null,
            "flex": null,
            "flex_flow": null,
            "grid_area": null,
            "grid_auto_columns": null,
            "grid_auto_flow": null,
            "grid_auto_rows": null,
            "grid_column": null,
            "grid_gap": null,
            "grid_row": null,
            "grid_template_areas": null,
            "grid_template_columns": null,
            "grid_template_rows": null,
            "height": null,
            "justify_content": null,
            "justify_items": null,
            "left": null,
            "margin": null,
            "max_height": null,
            "max_width": null,
            "min_height": null,
            "min_width": null,
            "object_fit": null,
            "object_position": null,
            "order": null,
            "overflow": null,
            "overflow_x": null,
            "overflow_y": null,
            "padding": null,
            "right": null,
            "top": null,
            "visibility": null,
            "width": null
          }
        },
        "09a98afb477a4b7f8e1cafa091d9b2e7": {
          "model_module": "@jupyter-widgets/controls",
          "model_module_version": "1.5.0",
          "model_name": "FloatProgressModel",
          "state": {
            "_dom_classes": [],
            "_model_module": "@jupyter-widgets/controls",
            "_model_module_version": "1.5.0",
            "_model_name": "FloatProgressModel",
            "_view_count": null,
            "_view_module": "@jupyter-widgets/controls",
            "_view_module_version": "1.5.0",
            "_view_name": "ProgressView",
            "bar_style": "success",
            "description": "",
            "description_tooltip": null,
            "layout": "IPY_MODEL_ebe9d158a0bb4f6dbfa4fc11176ca24b",
            "max": 22608,
            "min": 0,
            "orientation": "horizontal",
            "style": "IPY_MODEL_d650abc3347540e6be105c5f860902bb",
            "value": 22608
          }
        },
        "11c8788a6c104f6bb1db8be7f2d5a116": {
          "model_module": "@jupyter-widgets/controls",
          "model_module_version": "1.5.0",
          "model_name": "DescriptionStyleModel",
          "state": {
            "_model_module": "@jupyter-widgets/controls",
            "_model_module_version": "1.5.0",
            "_model_name": "DescriptionStyleModel",
            "_view_count": null,
            "_view_module": "@jupyter-widgets/base",
            "_view_module_version": "1.2.0",
            "_view_name": "StyleView",
            "description_width": ""
          }
        },
        "1976f140fb9342968d53cf27ec028b0b": {
          "model_module": "@jupyter-widgets/controls",
          "model_module_version": "1.5.0",
          "model_name": "DescriptionStyleModel",
          "state": {
            "_model_module": "@jupyter-widgets/controls",
            "_model_module_version": "1.5.0",
            "_model_name": "DescriptionStyleModel",
            "_view_count": null,
            "_view_module": "@jupyter-widgets/base",
            "_view_module_version": "1.2.0",
            "_view_name": "StyleView",
            "description_width": ""
          }
        },
        "206bb3710df948f3989eec87224f366d": {
          "model_module": "@jupyter-widgets/controls",
          "model_module_version": "1.5.0",
          "model_name": "HTMLModel",
          "state": {
            "_dom_classes": [],
            "_model_module": "@jupyter-widgets/controls",
            "_model_module_version": "1.5.0",
            "_model_name": "HTMLModel",
            "_view_count": null,
            "_view_module": "@jupyter-widgets/controls",
            "_view_module_version": "1.5.0",
            "_view_name": "HTMLView",
            "description": "",
            "description_tooltip": null,
            "layout": "IPY_MODEL_3e8c8f855b76489a8eeaa0017f5e143f",
            "placeholder": "​",
            "style": "IPY_MODEL_4e196e121ef6407aa13787fd987f00b2",
            "value": " 10897/10897 [01:00&lt;00:00, 199.88it/s]"
          }
        },
        "2c4722fcf094479998a3bc1aaacb8237": {
          "model_module": "@jupyter-widgets/controls",
          "model_module_version": "1.5.0",
          "model_name": "HTMLModel",
          "state": {
            "_dom_classes": [],
            "_model_module": "@jupyter-widgets/controls",
            "_model_module_version": "1.5.0",
            "_model_name": "HTMLModel",
            "_view_count": null,
            "_view_module": "@jupyter-widgets/controls",
            "_view_module_version": "1.5.0",
            "_view_name": "HTMLView",
            "description": "",
            "description_tooltip": null,
            "layout": "IPY_MODEL_501121cc4e6c47d3a6f4eec1650d050e",
            "placeholder": "​",
            "style": "IPY_MODEL_756e31aa68b34e8b8b298834af89260d",
            "value": "100%"
          }
        },
        "3e8c8f855b76489a8eeaa0017f5e143f": {
          "model_module": "@jupyter-widgets/base",
          "model_module_version": "1.2.0",
          "model_name": "LayoutModel",
          "state": {
            "_model_module": "@jupyter-widgets/base",
            "_model_module_version": "1.2.0",
            "_model_name": "LayoutModel",
            "_view_count": null,
            "_view_module": "@jupyter-widgets/base",
            "_view_module_version": "1.2.0",
            "_view_name": "LayoutView",
            "align_content": null,
            "align_items": null,
            "align_self": null,
            "border": null,
            "bottom": null,
            "display": null,
            "flex": null,
            "flex_flow": null,
            "grid_area": null,
            "grid_auto_columns": null,
            "grid_auto_flow": null,
            "grid_auto_rows": null,
            "grid_column": null,
            "grid_gap": null,
            "grid_row": null,
            "grid_template_areas": null,
            "grid_template_columns": null,
            "grid_template_rows": null,
            "height": null,
            "justify_content": null,
            "justify_items": null,
            "left": null,
            "margin": null,
            "max_height": null,
            "max_width": null,
            "min_height": null,
            "min_width": null,
            "object_fit": null,
            "object_position": null,
            "order": null,
            "overflow": null,
            "overflow_x": null,
            "overflow_y": null,
            "padding": null,
            "right": null,
            "top": null,
            "visibility": null,
            "width": null
          }
        },
        "44c71cc10daf40479a66736e4cdef9be": {
          "model_module": "@jupyter-widgets/controls",
          "model_module_version": "1.5.0",
          "model_name": "HTMLModel",
          "state": {
            "_dom_classes": [],
            "_model_module": "@jupyter-widgets/controls",
            "_model_module_version": "1.5.0",
            "_model_name": "HTMLModel",
            "_view_count": null,
            "_view_module": "@jupyter-widgets/controls",
            "_view_module_version": "1.5.0",
            "_view_name": "HTMLView",
            "description": "",
            "description_tooltip": null,
            "layout": "IPY_MODEL_01b02763d39b416b88266d3bb1e74a02",
            "placeholder": "​",
            "style": "IPY_MODEL_8b73cb8aaa614c25adeeef73f90f857c",
            "value": "100%"
          }
        },
        "479c657e34964b5dbe1cf9d04b41e9ee": {
          "model_module": "@jupyter-widgets/controls",
          "model_module_version": "1.5.0",
          "model_name": "ProgressStyleModel",
          "state": {
            "_model_module": "@jupyter-widgets/controls",
            "_model_module_version": "1.5.0",
            "_model_name": "ProgressStyleModel",
            "_view_count": null,
            "_view_module": "@jupyter-widgets/base",
            "_view_module_version": "1.2.0",
            "_view_name": "StyleView",
            "bar_color": null,
            "description_width": ""
          }
        },
        "4e196e121ef6407aa13787fd987f00b2": {
          "model_module": "@jupyter-widgets/controls",
          "model_module_version": "1.5.0",
          "model_name": "DescriptionStyleModel",
          "state": {
            "_model_module": "@jupyter-widgets/controls",
            "_model_module_version": "1.5.0",
            "_model_name": "DescriptionStyleModel",
            "_view_count": null,
            "_view_module": "@jupyter-widgets/base",
            "_view_module_version": "1.2.0",
            "_view_name": "StyleView",
            "description_width": ""
          }
        },
        "501121cc4e6c47d3a6f4eec1650d050e": {
          "model_module": "@jupyter-widgets/base",
          "model_module_version": "1.2.0",
          "model_name": "LayoutModel",
          "state": {
            "_model_module": "@jupyter-widgets/base",
            "_model_module_version": "1.2.0",
            "_model_name": "LayoutModel",
            "_view_count": null,
            "_view_module": "@jupyter-widgets/base",
            "_view_module_version": "1.2.0",
            "_view_name": "LayoutView",
            "align_content": null,
            "align_items": null,
            "align_self": null,
            "border": null,
            "bottom": null,
            "display": null,
            "flex": null,
            "flex_flow": null,
            "grid_area": null,
            "grid_auto_columns": null,
            "grid_auto_flow": null,
            "grid_auto_rows": null,
            "grid_column": null,
            "grid_gap": null,
            "grid_row": null,
            "grid_template_areas": null,
            "grid_template_columns": null,
            "grid_template_rows": null,
            "height": null,
            "justify_content": null,
            "justify_items": null,
            "left": null,
            "margin": null,
            "max_height": null,
            "max_width": null,
            "min_height": null,
            "min_width": null,
            "object_fit": null,
            "object_position": null,
            "order": null,
            "overflow": null,
            "overflow_x": null,
            "overflow_y": null,
            "padding": null,
            "right": null,
            "top": null,
            "visibility": null,
            "width": null
          }
        },
        "53b6552e601f4a38a52df817381728f6": {
          "model_module": "@jupyter-widgets/base",
          "model_module_version": "1.2.0",
          "model_name": "LayoutModel",
          "state": {
            "_model_module": "@jupyter-widgets/base",
            "_model_module_version": "1.2.0",
            "_model_name": "LayoutModel",
            "_view_count": null,
            "_view_module": "@jupyter-widgets/base",
            "_view_module_version": "1.2.0",
            "_view_name": "LayoutView",
            "align_content": null,
            "align_items": null,
            "align_self": null,
            "border": null,
            "bottom": null,
            "display": null,
            "flex": null,
            "flex_flow": null,
            "grid_area": null,
            "grid_auto_columns": null,
            "grid_auto_flow": null,
            "grid_auto_rows": null,
            "grid_column": null,
            "grid_gap": null,
            "grid_row": null,
            "grid_template_areas": null,
            "grid_template_columns": null,
            "grid_template_rows": null,
            "height": null,
            "justify_content": null,
            "justify_items": null,
            "left": null,
            "margin": null,
            "max_height": null,
            "max_width": null,
            "min_height": null,
            "min_width": null,
            "object_fit": null,
            "object_position": null,
            "order": null,
            "overflow": null,
            "overflow_x": null,
            "overflow_y": null,
            "padding": null,
            "right": null,
            "top": null,
            "visibility": null,
            "width": null
          }
        },
        "5869a47b190c495ea8f49038b343a208": {
          "model_module": "@jupyter-widgets/controls",
          "model_module_version": "1.5.0",
          "model_name": "HTMLModel",
          "state": {
            "_dom_classes": [],
            "_model_module": "@jupyter-widgets/controls",
            "_model_module_version": "1.5.0",
            "_model_name": "HTMLModel",
            "_view_count": null,
            "_view_module": "@jupyter-widgets/controls",
            "_view_module_version": "1.5.0",
            "_view_name": "HTMLView",
            "description": "",
            "description_tooltip": null,
            "layout": "IPY_MODEL_69bb04d2777749f4849f234dbc2f7a24",
            "placeholder": "​",
            "style": "IPY_MODEL_1976f140fb9342968d53cf27ec028b0b",
            "value": "100%"
          }
        },
        "5a5baf9e681e4683be61b75a5c192f38": {
          "model_module": "@jupyter-widgets/controls",
          "model_module_version": "1.5.0",
          "model_name": "HBoxModel",
          "state": {
            "_dom_classes": [],
            "_model_module": "@jupyter-widgets/controls",
            "_model_module_version": "1.5.0",
            "_model_name": "HBoxModel",
            "_view_count": null,
            "_view_module": "@jupyter-widgets/controls",
            "_view_module_version": "1.5.0",
            "_view_name": "HBoxView",
            "box_style": "",
            "children": [
              "IPY_MODEL_5869a47b190c495ea8f49038b343a208",
              "IPY_MODEL_09a98afb477a4b7f8e1cafa091d9b2e7",
              "IPY_MODEL_e51fde96e8874b1586926df675f4b066"
            ],
            "layout": "IPY_MODEL_856ad89333f946d789b2c95b29a4c870"
          }
        },
        "5f2050bb49b24d138212f1df6023f25e": {
          "model_module": "@jupyter-widgets/controls",
          "model_module_version": "1.5.0",
          "model_name": "HBoxModel",
          "state": {
            "_dom_classes": [],
            "_model_module": "@jupyter-widgets/controls",
            "_model_module_version": "1.5.0",
            "_model_name": "HBoxModel",
            "_view_count": null,
            "_view_module": "@jupyter-widgets/controls",
            "_view_module_version": "1.5.0",
            "_view_name": "HBoxView",
            "box_style": "",
            "children": [
              "IPY_MODEL_2c4722fcf094479998a3bc1aaacb8237",
              "IPY_MODEL_c75c26ba2cc644d9b2e30b2346d3ce39",
              "IPY_MODEL_206bb3710df948f3989eec87224f366d"
            ],
            "layout": "IPY_MODEL_f769b345d05942909192c7c066c5dc4a"
          }
        },
        "69bb04d2777749f4849f234dbc2f7a24": {
          "model_module": "@jupyter-widgets/base",
          "model_module_version": "1.2.0",
          "model_name": "LayoutModel",
          "state": {
            "_model_module": "@jupyter-widgets/base",
            "_model_module_version": "1.2.0",
            "_model_name": "LayoutModel",
            "_view_count": null,
            "_view_module": "@jupyter-widgets/base",
            "_view_module_version": "1.2.0",
            "_view_name": "LayoutView",
            "align_content": null,
            "align_items": null,
            "align_self": null,
            "border": null,
            "bottom": null,
            "display": null,
            "flex": null,
            "flex_flow": null,
            "grid_area": null,
            "grid_auto_columns": null,
            "grid_auto_flow": null,
            "grid_auto_rows": null,
            "grid_column": null,
            "grid_gap": null,
            "grid_row": null,
            "grid_template_areas": null,
            "grid_template_columns": null,
            "grid_template_rows": null,
            "height": null,
            "justify_content": null,
            "justify_items": null,
            "left": null,
            "margin": null,
            "max_height": null,
            "max_width": null,
            "min_height": null,
            "min_width": null,
            "object_fit": null,
            "object_position": null,
            "order": null,
            "overflow": null,
            "overflow_x": null,
            "overflow_y": null,
            "padding": null,
            "right": null,
            "top": null,
            "visibility": null,
            "width": null
          }
        },
        "756e31aa68b34e8b8b298834af89260d": {
          "model_module": "@jupyter-widgets/controls",
          "model_module_version": "1.5.0",
          "model_name": "DescriptionStyleModel",
          "state": {
            "_model_module": "@jupyter-widgets/controls",
            "_model_module_version": "1.5.0",
            "_model_name": "DescriptionStyleModel",
            "_view_count": null,
            "_view_module": "@jupyter-widgets/base",
            "_view_module_version": "1.2.0",
            "_view_name": "StyleView",
            "description_width": ""
          }
        },
        "7708ea33d67344df9b97b198008398a2": {
          "model_module": "@jupyter-widgets/controls",
          "model_module_version": "1.5.0",
          "model_name": "DescriptionStyleModel",
          "state": {
            "_model_module": "@jupyter-widgets/controls",
            "_model_module_version": "1.5.0",
            "_model_name": "DescriptionStyleModel",
            "_view_count": null,
            "_view_module": "@jupyter-widgets/base",
            "_view_module_version": "1.2.0",
            "_view_name": "StyleView",
            "description_width": ""
          }
        },
        "7ae0e9d231c74b49b30d7ab166e5c513": {
          "model_module": "@jupyter-widgets/base",
          "model_module_version": "1.2.0",
          "model_name": "LayoutModel",
          "state": {
            "_model_module": "@jupyter-widgets/base",
            "_model_module_version": "1.2.0",
            "_model_name": "LayoutModel",
            "_view_count": null,
            "_view_module": "@jupyter-widgets/base",
            "_view_module_version": "1.2.0",
            "_view_name": "LayoutView",
            "align_content": null,
            "align_items": null,
            "align_self": null,
            "border": null,
            "bottom": null,
            "display": null,
            "flex": null,
            "flex_flow": null,
            "grid_area": null,
            "grid_auto_columns": null,
            "grid_auto_flow": null,
            "grid_auto_rows": null,
            "grid_column": null,
            "grid_gap": null,
            "grid_row": null,
            "grid_template_areas": null,
            "grid_template_columns": null,
            "grid_template_rows": null,
            "height": null,
            "justify_content": null,
            "justify_items": null,
            "left": null,
            "margin": null,
            "max_height": null,
            "max_width": null,
            "min_height": null,
            "min_width": null,
            "object_fit": null,
            "object_position": null,
            "order": null,
            "overflow": null,
            "overflow_x": null,
            "overflow_y": null,
            "padding": null,
            "right": null,
            "top": null,
            "visibility": null,
            "width": null
          }
        },
        "7d907c8e00c54e2392778e86c52de9ea": {
          "model_module": "@jupyter-widgets/base",
          "model_module_version": "1.2.0",
          "model_name": "LayoutModel",
          "state": {
            "_model_module": "@jupyter-widgets/base",
            "_model_module_version": "1.2.0",
            "_model_name": "LayoutModel",
            "_view_count": null,
            "_view_module": "@jupyter-widgets/base",
            "_view_module_version": "1.2.0",
            "_view_name": "LayoutView",
            "align_content": null,
            "align_items": null,
            "align_self": null,
            "border": null,
            "bottom": null,
            "display": null,
            "flex": null,
            "flex_flow": null,
            "grid_area": null,
            "grid_auto_columns": null,
            "grid_auto_flow": null,
            "grid_auto_rows": null,
            "grid_column": null,
            "grid_gap": null,
            "grid_row": null,
            "grid_template_areas": null,
            "grid_template_columns": null,
            "grid_template_rows": null,
            "height": null,
            "justify_content": null,
            "justify_items": null,
            "left": null,
            "margin": null,
            "max_height": null,
            "max_width": null,
            "min_height": null,
            "min_width": null,
            "object_fit": null,
            "object_position": null,
            "order": null,
            "overflow": null,
            "overflow_x": null,
            "overflow_y": null,
            "padding": null,
            "right": null,
            "top": null,
            "visibility": null,
            "width": null
          }
        },
        "856ad89333f946d789b2c95b29a4c870": {
          "model_module": "@jupyter-widgets/base",
          "model_module_version": "1.2.0",
          "model_name": "LayoutModel",
          "state": {
            "_model_module": "@jupyter-widgets/base",
            "_model_module_version": "1.2.0",
            "_model_name": "LayoutModel",
            "_view_count": null,
            "_view_module": "@jupyter-widgets/base",
            "_view_module_version": "1.2.0",
            "_view_name": "LayoutView",
            "align_content": null,
            "align_items": null,
            "align_self": null,
            "border": null,
            "bottom": null,
            "display": null,
            "flex": null,
            "flex_flow": null,
            "grid_area": null,
            "grid_auto_columns": null,
            "grid_auto_flow": null,
            "grid_auto_rows": null,
            "grid_column": null,
            "grid_gap": null,
            "grid_row": null,
            "grid_template_areas": null,
            "grid_template_columns": null,
            "grid_template_rows": null,
            "height": null,
            "justify_content": null,
            "justify_items": null,
            "left": null,
            "margin": null,
            "max_height": null,
            "max_width": null,
            "min_height": null,
            "min_width": null,
            "object_fit": null,
            "object_position": null,
            "order": null,
            "overflow": null,
            "overflow_x": null,
            "overflow_y": null,
            "padding": null,
            "right": null,
            "top": null,
            "visibility": null,
            "width": null
          }
        },
        "8b73cb8aaa614c25adeeef73f90f857c": {
          "model_module": "@jupyter-widgets/controls",
          "model_module_version": "1.5.0",
          "model_name": "DescriptionStyleModel",
          "state": {
            "_model_module": "@jupyter-widgets/controls",
            "_model_module_version": "1.5.0",
            "_model_name": "DescriptionStyleModel",
            "_view_count": null,
            "_view_module": "@jupyter-widgets/base",
            "_view_module_version": "1.2.0",
            "_view_name": "StyleView",
            "description_width": ""
          }
        },
        "9abfe9090b7642e18cfa8bb848d68d43": {
          "model_module": "@jupyter-widgets/base",
          "model_module_version": "1.2.0",
          "model_name": "LayoutModel",
          "state": {
            "_model_module": "@jupyter-widgets/base",
            "_model_module_version": "1.2.0",
            "_model_name": "LayoutModel",
            "_view_count": null,
            "_view_module": "@jupyter-widgets/base",
            "_view_module_version": "1.2.0",
            "_view_name": "LayoutView",
            "align_content": null,
            "align_items": null,
            "align_self": null,
            "border": null,
            "bottom": null,
            "display": null,
            "flex": null,
            "flex_flow": null,
            "grid_area": null,
            "grid_auto_columns": null,
            "grid_auto_flow": null,
            "grid_auto_rows": null,
            "grid_column": null,
            "grid_gap": null,
            "grid_row": null,
            "grid_template_areas": null,
            "grid_template_columns": null,
            "grid_template_rows": null,
            "height": null,
            "justify_content": null,
            "justify_items": null,
            "left": null,
            "margin": null,
            "max_height": null,
            "max_width": null,
            "min_height": null,
            "min_width": null,
            "object_fit": null,
            "object_position": null,
            "order": null,
            "overflow": null,
            "overflow_x": null,
            "overflow_y": null,
            "padding": null,
            "right": null,
            "top": null,
            "visibility": null,
            "width": null
          }
        },
        "a98a44ecf71f4498a7f39c883eb244d5": {
          "model_module": "@jupyter-widgets/controls",
          "model_module_version": "1.5.0",
          "model_name": "HTMLModel",
          "state": {
            "_dom_classes": [],
            "_model_module": "@jupyter-widgets/controls",
            "_model_module_version": "1.5.0",
            "_model_name": "HTMLModel",
            "_view_count": null,
            "_view_module": "@jupyter-widgets/controls",
            "_view_module_version": "1.5.0",
            "_view_name": "HTMLView",
            "description": "",
            "description_tooltip": null,
            "layout": "IPY_MODEL_c8eecf5a16d44dde87e31f3b31d23a67",
            "placeholder": "​",
            "style": "IPY_MODEL_11c8788a6c104f6bb1db8be7f2d5a116",
            "value": " 62534/62534 [08:52&lt;00:00, 104.51it/s]"
          }
        },
        "ba4caf6e01984fd3b8f1c38f4ab304b3": {
          "model_module": "@jupyter-widgets/controls",
          "model_module_version": "1.5.0",
          "model_name": "FloatProgressModel",
          "state": {
            "_dom_classes": [],
            "_model_module": "@jupyter-widgets/controls",
            "_model_module_version": "1.5.0",
            "_model_name": "FloatProgressModel",
            "_view_count": null,
            "_view_module": "@jupyter-widgets/controls",
            "_view_module_version": "1.5.0",
            "_view_name": "ProgressView",
            "bar_style": "success",
            "description": "",
            "description_tooltip": null,
            "layout": "IPY_MODEL_7ae0e9d231c74b49b30d7ab166e5c513",
            "max": 62534,
            "min": 0,
            "orientation": "horizontal",
            "style": "IPY_MODEL_479c657e34964b5dbe1cf9d04b41e9ee",
            "value": 62534
          }
        },
        "bf2144175a964769b842668548631b8d": {
          "model_module": "@jupyter-widgets/controls",
          "model_module_version": "1.5.0",
          "model_name": "ProgressStyleModel",
          "state": {
            "_model_module": "@jupyter-widgets/controls",
            "_model_module_version": "1.5.0",
            "_model_name": "ProgressStyleModel",
            "_view_count": null,
            "_view_module": "@jupyter-widgets/base",
            "_view_module_version": "1.2.0",
            "_view_name": "StyleView",
            "bar_color": null,
            "description_width": ""
          }
        },
        "c75c26ba2cc644d9b2e30b2346d3ce39": {
          "model_module": "@jupyter-widgets/controls",
          "model_module_version": "1.5.0",
          "model_name": "FloatProgressModel",
          "state": {
            "_dom_classes": [],
            "_model_module": "@jupyter-widgets/controls",
            "_model_module_version": "1.5.0",
            "_model_name": "FloatProgressModel",
            "_view_count": null,
            "_view_module": "@jupyter-widgets/controls",
            "_view_module_version": "1.5.0",
            "_view_name": "ProgressView",
            "bar_style": "success",
            "description": "",
            "description_tooltip": null,
            "layout": "IPY_MODEL_53b6552e601f4a38a52df817381728f6",
            "max": 10897,
            "min": 0,
            "orientation": "horizontal",
            "style": "IPY_MODEL_bf2144175a964769b842668548631b8d",
            "value": 10897
          }
        },
        "c8eecf5a16d44dde87e31f3b31d23a67": {
          "model_module": "@jupyter-widgets/base",
          "model_module_version": "1.2.0",
          "model_name": "LayoutModel",
          "state": {
            "_model_module": "@jupyter-widgets/base",
            "_model_module_version": "1.2.0",
            "_model_name": "LayoutModel",
            "_view_count": null,
            "_view_module": "@jupyter-widgets/base",
            "_view_module_version": "1.2.0",
            "_view_name": "LayoutView",
            "align_content": null,
            "align_items": null,
            "align_self": null,
            "border": null,
            "bottom": null,
            "display": null,
            "flex": null,
            "flex_flow": null,
            "grid_area": null,
            "grid_auto_columns": null,
            "grid_auto_flow": null,
            "grid_auto_rows": null,
            "grid_column": null,
            "grid_gap": null,
            "grid_row": null,
            "grid_template_areas": null,
            "grid_template_columns": null,
            "grid_template_rows": null,
            "height": null,
            "justify_content": null,
            "justify_items": null,
            "left": null,
            "margin": null,
            "max_height": null,
            "max_width": null,
            "min_height": null,
            "min_width": null,
            "object_fit": null,
            "object_position": null,
            "order": null,
            "overflow": null,
            "overflow_x": null,
            "overflow_y": null,
            "padding": null,
            "right": null,
            "top": null,
            "visibility": null,
            "width": null
          }
        },
        "d22a3f7cafb647f2a5e8b55c69457bed": {
          "model_module": "@jupyter-widgets/controls",
          "model_module_version": "1.5.0",
          "model_name": "HBoxModel",
          "state": {
            "_dom_classes": [],
            "_model_module": "@jupyter-widgets/controls",
            "_model_module_version": "1.5.0",
            "_model_name": "HBoxModel",
            "_view_count": null,
            "_view_module": "@jupyter-widgets/controls",
            "_view_module_version": "1.5.0",
            "_view_name": "HBoxView",
            "box_style": "",
            "children": [
              "IPY_MODEL_44c71cc10daf40479a66736e4cdef9be",
              "IPY_MODEL_ba4caf6e01984fd3b8f1c38f4ab304b3",
              "IPY_MODEL_a98a44ecf71f4498a7f39c883eb244d5"
            ],
            "layout": "IPY_MODEL_9abfe9090b7642e18cfa8bb848d68d43"
          }
        },
        "d650abc3347540e6be105c5f860902bb": {
          "model_module": "@jupyter-widgets/controls",
          "model_module_version": "1.5.0",
          "model_name": "ProgressStyleModel",
          "state": {
            "_model_module": "@jupyter-widgets/controls",
            "_model_module_version": "1.5.0",
            "_model_name": "ProgressStyleModel",
            "_view_count": null,
            "_view_module": "@jupyter-widgets/base",
            "_view_module_version": "1.2.0",
            "_view_name": "StyleView",
            "bar_color": null,
            "description_width": ""
          }
        },
        "e51fde96e8874b1586926df675f4b066": {
          "model_module": "@jupyter-widgets/controls",
          "model_module_version": "1.5.0",
          "model_name": "HTMLModel",
          "state": {
            "_dom_classes": [],
            "_model_module": "@jupyter-widgets/controls",
            "_model_module_version": "1.5.0",
            "_model_name": "HTMLModel",
            "_view_count": null,
            "_view_module": "@jupyter-widgets/controls",
            "_view_module_version": "1.5.0",
            "_view_name": "HTMLView",
            "description": "",
            "description_tooltip": null,
            "layout": "IPY_MODEL_7d907c8e00c54e2392778e86c52de9ea",
            "placeholder": "​",
            "style": "IPY_MODEL_7708ea33d67344df9b97b198008398a2",
            "value": " 22608/22608 [16:47&lt;00:00,  8.56it/s]"
          }
        },
        "ebe9d158a0bb4f6dbfa4fc11176ca24b": {
          "model_module": "@jupyter-widgets/base",
          "model_module_version": "1.2.0",
          "model_name": "LayoutModel",
          "state": {
            "_model_module": "@jupyter-widgets/base",
            "_model_module_version": "1.2.0",
            "_model_name": "LayoutModel",
            "_view_count": null,
            "_view_module": "@jupyter-widgets/base",
            "_view_module_version": "1.2.0",
            "_view_name": "LayoutView",
            "align_content": null,
            "align_items": null,
            "align_self": null,
            "border": null,
            "bottom": null,
            "display": null,
            "flex": null,
            "flex_flow": null,
            "grid_area": null,
            "grid_auto_columns": null,
            "grid_auto_flow": null,
            "grid_auto_rows": null,
            "grid_column": null,
            "grid_gap": null,
            "grid_row": null,
            "grid_template_areas": null,
            "grid_template_columns": null,
            "grid_template_rows": null,
            "height": null,
            "justify_content": null,
            "justify_items": null,
            "left": null,
            "margin": null,
            "max_height": null,
            "max_width": null,
            "min_height": null,
            "min_width": null,
            "object_fit": null,
            "object_position": null,
            "order": null,
            "overflow": null,
            "overflow_x": null,
            "overflow_y": null,
            "padding": null,
            "right": null,
            "top": null,
            "visibility": null,
            "width": null
          }
        },
        "f769b345d05942909192c7c066c5dc4a": {
          "model_module": "@jupyter-widgets/base",
          "model_module_version": "1.2.0",
          "model_name": "LayoutModel",
          "state": {
            "_model_module": "@jupyter-widgets/base",
            "_model_module_version": "1.2.0",
            "_model_name": "LayoutModel",
            "_view_count": null,
            "_view_module": "@jupyter-widgets/base",
            "_view_module_version": "1.2.0",
            "_view_name": "LayoutView",
            "align_content": null,
            "align_items": null,
            "align_self": null,
            "border": null,
            "bottom": null,
            "display": null,
            "flex": null,
            "flex_flow": null,
            "grid_area": null,
            "grid_auto_columns": null,
            "grid_auto_flow": null,
            "grid_auto_rows": null,
            "grid_column": null,
            "grid_gap": null,
            "grid_row": null,
            "grid_template_areas": null,
            "grid_template_columns": null,
            "grid_template_rows": null,
            "height": null,
            "justify_content": null,
            "justify_items": null,
            "left": null,
            "margin": null,
            "max_height": null,
            "max_width": null,
            "min_height": null,
            "min_width": null,
            "object_fit": null,
            "object_position": null,
            "order": null,
            "overflow": null,
            "overflow_x": null,
            "overflow_y": null,
            "padding": null,
            "right": null,
            "top": null,
            "visibility": null,
            "width": null
          }
        }
      }
    }
  },
  "nbformat": 4,
  "nbformat_minor": 0
}