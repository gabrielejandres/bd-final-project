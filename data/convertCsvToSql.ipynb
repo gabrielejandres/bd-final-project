{
 "cells": [
  {
   "cell_type": "markdown",
   "metadata": {},
   "source": [
    "# Converter CSV para SQL\n",
    "Esse notebook lê os arquivos CSV e escreve um arquivo SQL que insere os dados no banco"
   ]
  },
  {
   "cell_type": "markdown",
   "metadata": {},
   "source": [
    "## 1. Importar bibliotecas necessárias\n",
    "\n",
    "_pandas_ é necessário para que seja possível ler arquivos CSV"
   ]
  },
  {
   "cell_type": "code",
   "execution_count": 1,
   "metadata": {},
   "outputs": [],
   "source": [
    "import pandas as pd"
   ]
  },
  {
   "cell_type": "markdown",
   "metadata": {},
   "source": [
    "_requests_ é usado para fazer a requisição para coleta de imagens\n",
    "\n",
    "_re_ é uma biblioteca para regex\n",
    "\n",
    "_shutil_ para criar um arquivo com a imagem"
   ]
  },
  {
   "cell_type": "code",
   "execution_count": 25,
   "metadata": {},
   "outputs": [],
   "source": [
    "import requests\n",
    "import re\n",
    "import shutil"
   ]
  },
  {
   "cell_type": "markdown",
   "metadata": {},
   "source": [
    "## 2. Ler arquivos e juntar\n",
    "\n",
    "Vamos ler os 4 arquivos em CSV, juntar todos em um único dataframe e remover a coluna 'show_id', pois o id no nosso banco não será o mesmo id do arquivo original"
   ]
  },
  {
   "cell_type": "code",
   "execution_count": 16,
   "metadata": {},
   "outputs": [
    {
     "data": {
      "text/html": [
       "<div>\n",
       "<style scoped>\n",
       "    .dataframe tbody tr th:only-of-type {\n",
       "        vertical-align: middle;\n",
       "    }\n",
       "\n",
       "    .dataframe tbody tr th {\n",
       "        vertical-align: top;\n",
       "    }\n",
       "\n",
       "    .dataframe thead th {\n",
       "        text-align: right;\n",
       "    }\n",
       "</style>\n",
       "<table border=\"1\" class=\"dataframe\">\n",
       "  <thead>\n",
       "    <tr style=\"text-align: right;\">\n",
       "      <th></th>\n",
       "      <th>type</th>\n",
       "      <th>title</th>\n",
       "      <th>director</th>\n",
       "      <th>cast</th>\n",
       "      <th>country</th>\n",
       "      <th>date_added</th>\n",
       "      <th>release_year</th>\n",
       "      <th>rating</th>\n",
       "      <th>duration</th>\n",
       "      <th>listed_in</th>\n",
       "      <th>description</th>\n",
       "    </tr>\n",
       "  </thead>\n",
       "  <tbody>\n",
       "    <tr>\n",
       "      <th>9416</th>\n",
       "      <td>TV Show</td>\n",
       "      <td>Tomorrow's Joe 2 (Original Japanese Audio)</td>\n",
       "      <td>NaN</td>\n",
       "      <td>Teruhiko Aoi, Jūkei Fujioka, Emi Tanaka, Ryuse...</td>\n",
       "      <td>NaN</td>\n",
       "      <td>October 6, 2021</td>\n",
       "      <td>1981</td>\n",
       "      <td>13+</td>\n",
       "      <td>2 Seasons</td>\n",
       "      <td>Anime, Drama, Sports</td>\n",
       "      <td>Joe, one of the top ranked boxers in the world...</td>\n",
       "    </tr>\n",
       "    <tr>\n",
       "      <th>110</th>\n",
       "      <td>Movie</td>\n",
       "      <td>Who Killed Doc Robin</td>\n",
       "      <td>Bernard Carr</td>\n",
       "      <td>NaN</td>\n",
       "      <td>NaN</td>\n",
       "      <td>NaN</td>\n",
       "      <td>1948</td>\n",
       "      <td>NR</td>\n",
       "      <td>52 min</td>\n",
       "      <td>Comedy</td>\n",
       "      <td>A group of people find themselves trapped in a...</td>\n",
       "    </tr>\n",
       "    <tr>\n",
       "      <th>729</th>\n",
       "      <td>Movie</td>\n",
       "      <td>The Boys of St. Vincent</td>\n",
       "      <td>John N. Smith</td>\n",
       "      <td>Henry Czerny, Johnny Morina, Brian Dooley, Phi...</td>\n",
       "      <td>NaN</td>\n",
       "      <td>NaN</td>\n",
       "      <td>1992</td>\n",
       "      <td>16+</td>\n",
       "      <td>93 min</td>\n",
       "      <td>Drama</td>\n",
       "      <td>This realistic dramatization follows the despe...</td>\n",
       "    </tr>\n",
       "    <tr>\n",
       "      <th>6234</th>\n",
       "      <td>Movie</td>\n",
       "      <td>Go to School and Learn with Blippi</td>\n",
       "      <td>Stevin John</td>\n",
       "      <td>Stevin John</td>\n",
       "      <td>NaN</td>\n",
       "      <td>NaN</td>\n",
       "      <td>2021</td>\n",
       "      <td>ALL</td>\n",
       "      <td>47 min</td>\n",
       "      <td>Kids</td>\n",
       "      <td>Blippi is an educational kids show tailored fo...</td>\n",
       "    </tr>\n",
       "    <tr>\n",
       "      <th>6533</th>\n",
       "      <td>Movie</td>\n",
       "      <td>Satan's Triangle</td>\n",
       "      <td>Sutton Roley</td>\n",
       "      <td>Kim Novak, Ed Lauter, Doug McClure</td>\n",
       "      <td>NaN</td>\n",
       "      <td>NaN</td>\n",
       "      <td>1975</td>\n",
       "      <td>13+</td>\n",
       "      <td>74 min</td>\n",
       "      <td>Drama, Suspense</td>\n",
       "      <td>A US coast guard finds only a woman still aliv...</td>\n",
       "    </tr>\n",
       "  </tbody>\n",
       "</table>\n",
       "</div>"
      ],
      "text/plain": [
       "         type                                       title       director  \\\n",
       "9416  TV Show  Tomorrow's Joe 2 (Original Japanese Audio)            NaN   \n",
       "110     Movie                        Who Killed Doc Robin   Bernard Carr   \n",
       "729     Movie                     The Boys of St. Vincent  John N. Smith   \n",
       "6234    Movie          Go to School and Learn with Blippi    Stevin John   \n",
       "6533    Movie                            Satan's Triangle   Sutton Roley   \n",
       "\n",
       "                                                   cast country  \\\n",
       "9416  Teruhiko Aoi, Jūkei Fujioka, Emi Tanaka, Ryuse...     NaN   \n",
       "110                                                 NaN     NaN   \n",
       "729   Henry Czerny, Johnny Morina, Brian Dooley, Phi...     NaN   \n",
       "6234                                        Stevin John     NaN   \n",
       "6533                 Kim Novak, Ed Lauter, Doug McClure     NaN   \n",
       "\n",
       "           date_added  release_year rating   duration             listed_in  \\\n",
       "9416  October 6, 2021          1981    13+  2 Seasons  Anime, Drama, Sports   \n",
       "110               NaN          1948     NR     52 min                Comedy   \n",
       "729               NaN          1992    16+     93 min                 Drama   \n",
       "6234              NaN          2021    ALL     47 min                  Kids   \n",
       "6533              NaN          1975    13+     74 min       Drama, Suspense   \n",
       "\n",
       "                                            description  \n",
       "9416  Joe, one of the top ranked boxers in the world...  \n",
       "110   A group of people find themselves trapped in a...  \n",
       "729   This realistic dramatization follows the despe...  \n",
       "6234  Blippi is an educational kids show tailored fo...  \n",
       "6533  A US coast guard finds only a woman still aliv...  "
      ]
     },
     "execution_count": 16,
     "metadata": {},
     "output_type": "execute_result"
    }
   ],
   "source": [
    "# Le os 4 arquivos\n",
    "amazon = pd.read_csv('amazon_prime_titles.csv')\n",
    "disney = pd.read_csv('disney_plus_titles.csv')\n",
    "hulu = pd.read_csv('hulu_titles.csv')\n",
    "netflix = pd.read_csv('netflix_titles.csv')\n",
    "\n",
    "# Junta em um dataframe so\n",
    "shows = amazon.append(disney.append(hulu.append(netflix)))\n",
    "\n",
    "# Remove a coluna 'show_id'\n",
    "shows.drop(columns=['show_id'], inplace=True)\n",
    "\n",
    "shows.sample(5)"
   ]
  },
  {
   "cell_type": "markdown",
   "metadata": {},
   "source": [
    "## 3. Montar a estrutura \n",
    "\n",
    "Para isso, usaremos como base o modelo conceitual do banco"
   ]
  },
  {
   "cell_type": "code",
   "execution_count": null,
   "metadata": {},
   "outputs": [],
   "source": [
    "#=====================\n",
    "# Vai ter que esperar\n",
    "# ===================="
   ]
  },
  {
   "cell_type": "markdown",
   "metadata": {},
   "source": [
    "## ?. Coletar as imagens dos artistas\n",
    "Para isso será feita uma raspagem do site 'biography.com'"
   ]
  },
  {
   "cell_type": "code",
   "execution_count": 26,
   "metadata": {},
   "outputs": [],
   "source": [
    "actorName = 'Nicolas Cage'\n",
    "actorNameFormatted = actorName.lower().replace(' ', '-')\n",
    "actorUrl = f'https://www.biography.com/actor/{actorNameFormatted}'\n",
    "\n",
    "try:\n",
    "  with requests.get(actorUrl) as actorReq:\n",
    "    imgUrl = re.findall('<img src=\"[^\"]*\"', actorReq.text)[2][10:-1]\n",
    "    with requests.get(imgUrl, stream=True) as imgReq:\n",
    "      with open(f'{actorNameFormatted}.png','wb') as file:\n",
    "        shutil.copyfileobj(imgReq.raw, file)\n",
    "except:\n",
    "  print(f'{actorName} not found')"
   ]
  }
 ],
 "metadata": {
  "kernelspec": {
   "display_name": "Python 3",
   "language": "python",
   "name": "python3"
  },
  "language_info": {
   "codemirror_mode": {
    "name": "ipython",
    "version": 3
   },
   "file_extension": ".py",
   "mimetype": "text/x-python",
   "name": "python",
   "nbconvert_exporter": "python",
   "pygments_lexer": "ipython3",
   "version": "3.8.5"
  }
 },
 "nbformat": 4,
 "nbformat_minor": 4
}
